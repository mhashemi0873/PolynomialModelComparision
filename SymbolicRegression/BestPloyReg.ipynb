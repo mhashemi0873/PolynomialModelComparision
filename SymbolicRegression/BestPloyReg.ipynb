{
 "cells": [
  {
   "cell_type": "markdown",
   "metadata": {},
   "source": [
    "Let's first import the libraries we need for running the show"
   ]
  },
  {
   "cell_type": "code",
   "execution_count": 1,
   "metadata": {},
   "outputs": [],
   "source": [
    "#Source Code: https://github.com/dynamicslab/deep-learning-fluids"
   ]
  },
  {
   "cell_type": "code",
   "execution_count": 2,
   "metadata": {
    "id": "Fiwv3J_GO5zQ"
   },
   "outputs": [],
   "source": [
    "import numpy as np\n",
    "import matplotlib.pyplot as plt\n",
    "from sklearn.linear_model import LinearRegression\n",
    "from sklearn.model_selection import train_test_split\n",
    "from sklearn.metrics import mean_squared_error"
   ]
  },
  {
   "cell_type": "markdown",
   "metadata": {
    "id": "HL9HpnFpLTl9"
   },
   "source": [
    "Any machine learning problem starts with data! If you have a machine learning idea in mind, first look for the data. If it's hard to get, you might want to change your mind. The more data the better, especially if you planning to use neural networks.\n",
    "\n",
    "In this problem we will generate the data instead of collecting it. This is not uncommon in some applications like physics constrained learning. Sometimes, you already have a predictor but you want to make it faster, so you create a surrogate model using machine learning to make fast predictions.\n",
    "\n",
    "We'll generate 100 data points for a parabolic function $y = x^2$. We'll add some \"measurement noise\" to mimic real-world data and explore the concepts of over- and under-fitting."
   ]
  },
  {
   "cell_type": "code",
   "execution_count": 3,
   "metadata": {},
   "outputs": [],
   "source": [
    "# Generate data\n",
    "noise_strength = 10 \n",
    "x = np.linspace(0, 10, 100)\n",
    "y = x**2 + noise_strength * (np.random.random((len(x)))-0.5)"
   ]
  },
  {
   "cell_type": "markdown",
   "metadata": {},
   "source": [
    "Now we can split the data into training, validation and test sets. The training set is used to optimize the model and find the optimal weights $\\hat{\\mathbf w}$, the validation set is used to test the generalization error while trying different hyperparameters and models, and the test set is finally used to evaluate your final generalization error.\n",
    "\n",
    "The validation set is sometimes called a \"dev\" set."
   ]
  },
  {
   "cell_type": "code",
   "execution_count": 4,
   "metadata": {
    "id": "KmcokpTiO_3D"
   },
   "outputs": [],
   "source": [
    "test_size = 0.2 # Partion of data in test set\n",
    "shuffle = False # Whether to sample anywhere in domain of x or separate training and testing domains\n",
    "\n",
    "# Split data into train/dev/test\n",
    "x_train, x_test, y_train, y_test = train_test_split(x, y, test_size=test_size, shuffle=shuffle)\n",
    "x_train, x_dev, y_train, y_dev = train_test_split(x_train, y_train, test_size=test_size, shuffle=shuffle)\n"
   ]
  },
  {
   "cell_type": "markdown",
   "metadata": {},
   "source": [
    "Note that I'm not shuffling the data to highlight the idea of extrapolation. This is common with time series data where the purpose of a machine learning model is to predict the future. This is illustrated in the visualization below. You'll see how over-fitting doesn't do well on extrapolation."
   ]
  },
  {
   "cell_type": "code",
   "execution_count": 5,
   "metadata": {},
   "outputs": [
    {
     "data": {
      "image/png": "[encoded data removed]",
      "text/plain": [
       "<Figure size 432x288 with 1 Axes>"
      ]
     },
     "metadata": {
      "needs_background": "light"
     },
     "output_type": "display_data"
    }
   ],
   "source": [
    "# Visualize the data\n",
    "fig = plt.figure()\n",
    "plt.plot(x_train, y_train, 'k.')\n",
    "plt.plot(x_dev, y_dev, 'b.')\n",
    "plt.plot(x_test, y_test, 'r.')\n",
    "plt.legend(['train', 'dev', 'test'])\n",
    "plt.ylabel('y')\n",
    "plt.xlabel('x')\n",
    "plt.show()"
   ]
  },
  {
   "cell_type": "markdown",
   "metadata": {},
   "source": [
    "Once you visualize the data try to get an intuition on the trends, you're ready to design your feature vector. We'll define a function that takes the data $x$ as an input and transforms it into a matrix containing polynomial features. The first column is contain the bias because $x^0 = 1$, and the $i+1$-st column will have the data for $x^i$. \n",
    "\n",
    "Let's define that function"
   ]
  },
  {
   "cell_type": "code",
   "execution_count": 6,
   "metadata": {},
   "outputs": [],
   "source": [
    "def make_features(x, degree=1):\n",
    "    X = np.zeros((len(x), degree+1))\n",
    "    for i in range(degree+1):\n",
    "        X[:, i] = x**i\n",
    "    return X"
   ]
  },
  {
   "cell_type": "markdown",
   "metadata": {},
   "source": [
    "Now we're ready to create our input output data. In practice, you'll have to split your data after building the feature matrix, not before (as I did above). We will start with a first order polynomial (i.e. a simple line).\n",
    "\n",
    "To be consistent I will reshape $y$ to be a $ n \\times 1$ dimension vector instead of a $n$ dimensional vector. "
   ]
  },
  {
   "cell_type": "code",
   "execution_count": 7,
   "metadata": {},
   "outputs": [],
   "source": [
    "d = 1\n",
    "\n",
    "X = make_features(x, degree=d)\n",
    "Y = y.reshape(-1, 1)\n",
    "\n",
    "# Split data into train/dev/test\n",
    "X_train, X_test, Y_train, Y_test = train_test_split(X, Y, test_size=test_size, shuffle=shuffle)\n",
    "X_train, X_dev, Y_train, Y_dev = train_test_split(X_train, Y_train, test_size=test_size, shuffle=shuffle)\n"
   ]
  },
  {
   "cell_type": "markdown",
   "metadata": {},
   "source": [
    "Now we're ready to fit the model to the training set! Fortunately, in most cases, if you're interested in applying machine learning to a problem, you don't have to worry about the optimizer. You might need to choose some hyperparameters like the step size or the optimization algorithm but you don't have to write the stochastic gradient descent algorithm from scratch. That would be a waste of time; unless you really enjoy it...\n",
    "\n",
    "Here we will use [schikit-learn](sklearn.org) to do that:"
   ]
  },
  {
   "cell_type": "code",
   "execution_count": 8,
   "metadata": {},
   "outputs": [
    {
     "data": {
      "text/plain": [
       "LinearRegression(fit_intercept=False)"
      ]
     },
     "execution_count": 8,
     "metadata": {},
     "output_type": "execute_result"
    }
   ],
   "source": [
    "reg = LinearRegression(fit_intercept=False)\n",
    "reg.fit(X_train, Y_train)"
   ]
  },
  {
   "cell_type": "markdown",
   "metadata": {},
   "source": [
    "Done! Sklearn ML algorithms include the bias separately by default but we included it in the feature vector. To avoid duplicating the bias feature, we use the argument `fit_intercept=False`.\n",
    "We can now look at the optimal coefficients $\\mathbf w$"
   ]
  },
  {
   "cell_type": "code",
   "execution_count": 9,
   "metadata": {},
   "outputs": [
    {
     "data": {
      "text/plain": [
       "array([[-6.98485021,  6.51940053]])"
      ]
     },
     "execution_count": 9,
     "metadata": {},
     "output_type": "execute_result"
    }
   ],
   "source": [
    "reg.coef_"
   ]
  },
  {
   "cell_type": "markdown",
   "metadata": {},
   "source": [
    "Or to make these coefficients a bit more interpretable, let's write a function that takes the optimal coefficients and returns the polynomial predictor. I'm using the `IPython` module to display the equation in a $\\LaTeX$ format."
   ]
  },
  {
   "cell_type": "code",
   "execution_count": 10,
   "metadata": {},
   "outputs": [
    {
     "data": {
      "text/latex": [
       "$\\displaystyle f_\\mathbf{w}(x) = -6.985+6.519x^1$"
      ],
      "text/plain": [
       "<IPython.core.display.Math object>"
      ]
     },
     "metadata": {},
     "output_type": "display_data"
    }
   ],
   "source": [
    "from IPython.display import display, Math\n",
    "\n",
    "def latexify_predictor(coefs):\n",
    "    s = ['$f_\\mathbf{w}(x) = ']\n",
    "    for i, c in enumerate(coefs):\n",
    "        if abs(c) > 0:\n",
    "            if c > 0 and i > 0:\n",
    "                s.append('+')\n",
    "            s.append('{:.3f}'.format(c))\n",
    "            if i > 0:\n",
    "                s.append('x^{}'.format(i))\n",
    "    s.append('$')\n",
    "    return ''.join(s)\n",
    "\n",
    "display(Math(latexify_predictor(reg.coef_[0])))\n"
   ]
  },
  {
   "cell_type": "markdown",
   "metadata": {},
   "source": [
    "How good is this predictor? Now that we have the optimal model, it's time to test it. Let's define a `get_error` function that takes the input `x`, the output `y`, the predictor object `reg` and the polynomial degree as inputs, and returns the mean squared error. You can see that `reg.predict(X)` returns the prediction of the features `X`. "
   ]
  },
  {
   "cell_type": "code",
   "execution_count": 11,
   "metadata": {},
   "outputs": [],
   "source": [
    "def get_error(x, y, reg, degree):\n",
    "    X = make_features(x, degree=d)\n",
    "    y_pred = reg.predict(X)\n",
    "    mse_val = mean_squared_error(y, y_pred)\n",
    "    return mse_val"
   ]
  },
  {
   "cell_type": "markdown",
   "metadata": {
    "id": "fS8xpC-B4NxQ"
   },
   "source": [
    "We will also use the score (included in the predictor module), defined as\n",
    "\n",
    "$$ R^2 = \\left( 1 - \\frac{\\sum_i (\\hat y_i - y_i)^2}{\\sum_i (y_i - \\langle y \\rangle)^2} \\right)$$\n",
    "\n",
    "where $\\hat y$ is the prediction, $y$ is the true value, $\\langle y \\rangle$ is the average of the true values across the data. For $R^2=1$ you have a perfect predictor, for $R^2=0$, you're just predicting the average of the distribution, and the more negative $R^2$ is, the worse your predictor. Let's see what our predictor and the errors on the validation and training sets look like"
   ]
  },
  {
   "cell_type": "code",
   "execution_count": 12,
   "metadata": {},
   "outputs": [
    {
     "name": "stdout",
     "output_type": "stream",
     "text": [
      "degree = 1\n",
      "\n",
      "\n",
      "validation score = -2.4435\n",
      "train score = 0.9048\n",
      "\n",
      "\n",
      "validation MSE = 164.8226\n",
      "train MSE = 15.5731\n"
     ]
    }
   ],
   "source": [
    "mse_dev = get_error(x_dev, y_dev, reg, d)\n",
    "mse_train = get_error(x_train, y_train, reg, d)\n",
    "\n",
    "score_dev = reg.score(X_dev, Y_dev)\n",
    "score_train = reg.score(X_train, Y_train)\n",
    "\n",
    "# Print the errors\n",
    "print('degree = %d'%(d))\n",
    "print('\\n')\n",
    "print('validation score = %.4f'%( score_dev ))\n",
    "print('train score = %.4f'%( score_train ))\n",
    "print('\\n')\n",
    "print('validation MSE = %.4f'%(mse_dev))\n",
    "print('train MSE = %.4f'%(mse_train))\n"
   ]
  },
  {
   "cell_type": "markdown",
   "metadata": {},
   "source": [
    "Here's what the prediction looks like"
   ]
  },
  {
   "cell_type": "code",
   "execution_count": 13,
   "metadata": {},
   "outputs": [
    {
     "data": {
      "image/png": "[encoded data removed]",
      "text/plain": [
       "<Figure size 432x288 with 1 Axes>"
      ]
     },
     "metadata": {
      "needs_background": "light"
     },
     "output_type": "display_data"
    }
   ],
   "source": [
    "# Define the input to span training and validation sets (excluding test set) - no cheating!\n",
    "x_c = np.linspace(x[0], np.max(x_dev), 100)\n",
    "\n",
    "fig = plt.figure()\n",
    "ax = fig.add_subplot(111)\n",
    "ax.plot(x_c, reg.predict(make_features(x_c, degree=d)), '--')\n",
    "ax.plot(x_train, y_train, '.')\n",
    "ax.plot(x_dev, y_dev, '^', ms=6)\n",
    "ax.plot(x_dev, reg.predict(make_features(x_dev, degree=d)), '.')\n",
    "\n",
    "ax.set_xlabel('x')\n",
    "ax.set_ylabel('y')\n",
    "ax.set_ylim(np.min(y_train), np.max(y_dev))\n",
    "ax.legend(['polynomial fit', 'train data', 'dev data', 'dev prediction'])\n",
    "plt.show()"
   ]
  },
  {
   "cell_type": "markdown",
   "metadata": {},
   "source": [
    "You can see that the error on the training set is much lower than on the validation set. This is normal, but can we do better on the validation set? Are we overfitting or underfitting? \n",
    "\n",
    "Here we're clearly underfitting: the model is too simple. We need to make it a bit more complex. To do that, set $d=2$, and try again. In this case, we know the right answer, but in real-world problems we don't. We'd have to test different inputs $d$ and see which one fits best. That's why automating feature selection and hyperparameter tuning can save you a lot of time. \n",
    "\n",
    "To illustrate this point, I'll define functions for splitting the data into train/dev/test sets and printing their error so we can train the model in a loop over different values of the degree $d$."
   ]
  },
  {
   "cell_type": "code",
   "execution_count": 14,
   "metadata": {},
   "outputs": [],
   "source": [
    "# Split the data\n",
    "def split_data(x, y, test_size=0.2, shuffle=False):\n",
    "    X = make_features(x, degree=d)\n",
    "    Y = y.reshape(-1, 1)\n",
    "\n",
    "    X_train, X_test, Y_train, Y_test = train_test_split(X, Y, test_size=test_size, shuffle=shuffle)\n",
    "    X_train, X_dev, Y_train, Y_dev = train_test_split(X_train, Y_train, test_size=test_size, shuffle=shuffle)\n",
    "    \n",
    "    return X_train, Y_train, X_dev, Y_dev, X_test, Y_test\n",
    "\n",
    "# Plot results\n",
    "def plot_results(x_train, y_train, x_dev, y_dev, reg, d):\n",
    "    x_c = np.linspace(x[0], np.max(x_dev), 100)\n",
    "\n",
    "    fig = plt.figure()\n",
    "    ax = fig.add_subplot(111)\n",
    "    ax.plot(x_c, reg.predict(make_features(x_c, degree=d)), '--')\n",
    "    ax.plot(x_train, y_train, '.')\n",
    "    ax.plot(x_dev, y_dev, '^', ms=6)\n",
    "    ax.plot(x_dev, reg.predict(make_features(x_dev, degree=d)), '.')\n",
    "\n",
    "    ax.set_xlabel('x')\n",
    "    ax.set_ylabel('y')\n",
    "    ax.set_ylim(np.min(y_train), np.max(y_dev))\n",
    "    ax.legend(['polynomial fit', 'train data', 'dev data', 'dev prediction'])\n",
    "    plt.show()\n"
   ]
  },
  {
   "cell_type": "markdown",
   "metadata": {},
   "source": [
    "Now we can loop over different values of $d$, pick the best predictor and finally test it on the test set. This is a good illustration of the whole machine learning process.\n",
    "\n",
    "In practice, you might have to store your trained models (usually on a local drive) because most real-world machine algorithms take a lot of time to train. You don't want to be training the same model multiple times. In this case, the models and data are small so we can afford to simply save them in a list. "
   ]
  },
  {
   "cell_type": "code",
   "execution_count": 15,
   "metadata": {},
   "outputs": [
    {
     "name": "stdout",
     "output_type": "stream",
     "text": [
      "\n",
      "degree = 1\n",
      "validation score = -2.4435\n",
      "train score = 0.9048\n",
      "validation MSE = 164.8226\n",
      "train MSE = 15.5731\n"
     ]
    },
    {
     "data": {
      "text/latex": [
       "$\\displaystyle f_\\mathbf{w}(x) = -6.985+6.519x^1$"
      ],
      "text/plain": [
       "<IPython.core.display.Math object>"
      ]
     },
     "metadata": {},
     "output_type": "display_data"
    },
    {
     "data": {
      "image/png": "[encoded data removed]",
      "text/plain": [
       "<Figure size 432x288 with 1 Axes>"
      ]
     },
     "metadata": {
      "needs_background": "light"
     },
     "output_type": "display_data"
    },
    {
     "name": "stdout",
     "output_type": "stream",
     "text": [
      "\n",
      "degree = 2\n",
      "validation score = 0.8183\n",
      "train score = 0.9567\n",
      "validation MSE = 8.6964\n",
      "train MSE = 7.0820\n"
     ]
    },
    {
     "data": {
      "text/latex": [
       "$\\displaystyle f_\\mathbf{w}(x) = -0.768+0.563x^1+0.936x^2$"
      ],
      "text/plain": [
       "<IPython.core.display.Math object>"
      ]
     },
     "metadata": {},
     "output_type": "display_data"
    },
    {
     "data": {
      "image/png": "[encoded data removed]",
      "text/plain": [
       "<Figure size 432x288 with 1 Axes>"
      ]
     },
     "metadata": {
      "needs_background": "light"
     },
     "output_type": "display_data"
    },
    {
     "name": "stdout",
     "output_type": "stream",
     "text": [
      "\n",
      "degree = 3\n",
      "validation score = 0.3309\n",
      "train score = 0.9581\n",
      "validation MSE = 32.0278\n",
      "train MSE = 6.8460\n"
     ]
    },
    {
     "data": {
      "text/latex": [
       "$\\displaystyle f_\\mathbf{w}(x) = -1.938+2.860x^1+0.026x^2+0.095x^3$"
      ],
      "text/plain": [
       "<IPython.core.display.Math object>"
      ]
     },
     "metadata": {},
     "output_type": "display_data"
    },
    {
     "data": {
      "image/png": "[encoded data removed]",
      "text/plain": [
       "<Figure size 432x288 with 1 Axes>"
      ]
     },
     "metadata": {
      "needs_background": "light"
     },
     "output_type": "display_data"
    },
    {
     "name": "stdout",
     "output_type": "stream",
     "text": [
      "\n",
      "degree = 4\n",
      "validation score = 0.1953\n",
      "train score = 0.9581\n",
      "validation MSE = 38.5186\n",
      "train MSE = 6.8451\n"
     ]
    },
    {
     "data": {
      "text/latex": [
       "$\\displaystyle f_\\mathbf{w}(x) = -1.862+2.604x^1+0.211x^2+0.050x^3+0.004x^4$"
      ],
      "text/plain": [
       "<IPython.core.display.Math object>"
      ]
     },
     "metadata": {},
     "output_type": "display_data"
    },
    {
     "data": {
      "image/png": "[encoded data removed]",
      "text/plain": [
       "<Figure size 432x288 with 1 Axes>"
      ]
     },
     "metadata": {
      "needs_background": "light"
     },
     "output_type": "display_data"
    },
    {
     "name": "stdout",
     "output_type": "stream",
     "text": [
      "\n",
      "degree = 5\n",
      "validation score = -0.0954\n",
      "train score = 0.9582\n",
      "validation MSE = 52.4285\n",
      "train MSE = 6.8446\n"
     ]
    },
    {
     "data": {
      "text/latex": [
       "$\\displaystyle f_\\mathbf{w}(x) = -1.923+2.925x^1-0.153x^2+0.204x^3-0.024x^4+0.002x^5$"
      ],
      "text/plain": [
       "<IPython.core.display.Math object>"
      ]
     },
     "metadata": {},
     "output_type": "display_data"
    },
    {
     "data": {
      "image/png": "[encoded data removed]",
      "text/plain": [
       "<Figure size 432x288 with 1 Axes>"
      ]
     },
     "metadata": {
      "needs_background": "light"
     },
     "output_type": "display_data"
    },
    {
     "name": "stdout",
     "output_type": "stream",
     "text": [
      "\n",
      "degree = 6\n",
      "validation score = -3.9427\n",
      "train score = 0.9583\n",
      "validation MSE = 236.5808\n",
      "train MSE = 6.8123\n"
     ]
    },
    {
     "data": {
      "text/latex": [
       "$\\displaystyle f_\\mathbf{w}(x) = -2.389+6.574x^1-6.159x^2+4.051x^3-1.166x^4+0.160x^5-0.008x^6$"
      ],
      "text/plain": [
       "<IPython.core.display.Math object>"
      ]
     },
     "metadata": {},
     "output_type": "display_data"
    },
    {
     "data": {
      "image/png": "[encoded data removed]",
      "text/plain": [
       "<Figure size 432x288 with 1 Axes>"
      ]
     },
     "metadata": {
      "needs_background": "light"
     },
     "output_type": "display_data"
    }
   ],
   "source": [
    "degree_list = [1, 2, 3, 4, 5, 6]\n",
    "\n",
    "reg_list = []\n",
    "mse_dev_list = []\n",
    "score_dev_list = []\n",
    "\n",
    "for d in degree_list:\n",
    "    \n",
    "    # Split data\n",
    "    X_train, Y_train, X_dev, Y_dev, X_test, Y_test = split_data(x, y)\n",
    "    \n",
    "    # Fit model\n",
    "    reg = LinearRegression(fit_intercept=False)\n",
    "    reg.fit(X_train, Y_train)\n",
    "    \n",
    "    # Compute errors\n",
    "    mse_dev = get_error(x_dev, y_dev, reg, d)\n",
    "    mse_train = get_error(x_train, y_train, reg, d)\n",
    "    score_dev = reg.score(X_dev, Y_dev)\n",
    "    score_train = reg.score(X_train, Y_train)\n",
    "\n",
    "    # Print the errors\n",
    "    print('\\ndegree = %d'%(d))\n",
    "    print('validation score = %.4f'%( score_dev ))\n",
    "    print('train score = %.4f'%( score_train ))\n",
    "    print('validation MSE = %.4f'%(mse_dev))\n",
    "    print('train MSE = %.4f'%(mse_train))\n",
    "    \n",
    "    # Print model\n",
    "    display(Math(latexify_predictor(reg.coef_[0])))\n",
    "    \n",
    "    # Plot results\n",
    "    plot_results(x_train, y_train, x_dev, y_dev, reg, d)\n",
    "    \n",
    "    # Store results\n",
    "    reg_list.append(reg)\n",
    "    mse_dev_list.append(mse_dev)\n",
    "    score_dev_list.append(score_dev)\n",
    "    "
   ]
  },
  {
   "cell_type": "code",
   "execution_count": 16,
   "metadata": {},
   "outputs": [
    {
     "name": "stdout",
     "output_type": "stream",
     "text": [
      "best predictor has degree (drum roll)...  2 !\n"
     ]
    }
   ],
   "source": [
    "# Let's see who wins!\n",
    "best_degree = degree_list[np.argmax(score_dev_list)]\n",
    "print('best predictor has degree (drum roll)... ', best_degree, '!')"
   ]
  },
  {
   "cell_type": "markdown",
   "metadata": {
    "id": "qxSgKRbtQefw"
   },
   "source": [
    "Clearly, the 6th degree polynomial is over-fitting and the first degree polynomial is under-fitting. But with a large noise magnitude and so little data, it's not clear whether a second order or third order polnomial will do better. When I run the model, sometimes it prefers the polynomial of degree $3$. Conclusion: there's no guarantee that we can even recover the model we used to generate the data! That's a sobering lesson to learn from this example. Machine learning algorithms in general do not always discover the underlying pattern. This is a good analogy to think about even for more complex machine learning models like deep networks.\n",
    "\n",
    "Before we test our model on the test set, is there something else we can try? Can we do a better job to recover the quadratic model we used to generate the data? Of course! This is where regularization comes in.\n",
    "\n",
    "Linear predictors are great but they'd be even greater if there is a way we can get them to minimize over-fitting and generalize over the validation set without trying all possible polynomial degrees. To achieve that, we minimize the norm of $\\mathbf w$ (by adding it to the original square loss). The $L_1$ norm, $|\\mathbf w|$, makes the predictor more sparse (sets small coefficients in the polynomial to zero), while the $L_2$ norm $\\| \\mathbf  w\\|$ makes the predictor less \"wiggly\" or smoother. Adding a loss term that minimizes the norm is called regularization.\n",
    "\n",
    "Let's check out what the $L_1$ norm does. In scikit-learn, the function that does that is `Lasso`, and you can find more details about it [here](https://sklearn.org/modules/generated/sklearn.linear_model.Lasso.html#sklearn.linear_model.Lasso). The syntax is exactly the same as before but replacing `LinearRegression` with `Lasso`"
   ]
  },
  {
   "cell_type": "code",
   "execution_count": 17,
   "metadata": {
    "id": "YAMk4z4bUVM5"
   },
   "outputs": [
    {
     "name": "stdout",
     "output_type": "stream",
     "text": [
      "\n",
      "degree = 2\n",
      "validation score = 0.8005\n",
      "train score = 0.9562\n",
      "validation MSE = 9.5477\n",
      "train MSE = 7.1606\n"
     ]
    },
    {
     "data": {
      "text/latex": [
       "$\\displaystyle f_\\mathbf{w}(x) = +1.012x^2$"
      ],
      "text/plain": [
       "<IPython.core.display.Math object>"
      ]
     },
     "metadata": {},
     "output_type": "display_data"
    },
    {
     "data": {
      "image/png": "[encoded data removed]",
      "text/plain": [
       "<Figure size 432x288 with 1 Axes>"
      ]
     },
     "metadata": {
      "needs_background": "light"
     },
     "output_type": "display_data"
    }
   ],
   "source": [
    "from sklearn.linear_model import Lasso\n",
    "\n",
    "d = 2\n",
    "\n",
    "# Split data\n",
    "X_train, Y_train, X_dev, Y_dev, X_test, Y_test = split_data(x, y)\n",
    "\n",
    "# Fit model\n",
    "reg = Lasso(fit_intercept=False)\n",
    "reg.fit(X_train, Y_train)\n",
    "\n",
    "# Compute errors\n",
    "mse_dev = get_error(x_dev, y_dev, reg, d)\n",
    "mse_train = get_error(x_train, y_train, reg, d)\n",
    "score_dev = reg.score(X_dev, Y_dev)\n",
    "score_train = reg.score(X_train, Y_train)\n",
    "\n",
    "# Print the errors\n",
    "print('\\ndegree = %d'%(d))\n",
    "print('validation score = %.4f'%( score_dev ))\n",
    "print('train score = %.4f'%( score_train ))\n",
    "print('validation MSE = %.4f'%(mse_dev))\n",
    "print('train MSE = %.4f'%(mse_train))\n",
    "\n",
    "# Print model\n",
    "display(Math(latexify_predictor(reg.coef_)))\n",
    "\n",
    "# Plot results\n",
    "plot_results(x_train, y_train, x_dev, y_dev, reg, d)"
   ]
  },
  {
   "cell_type": "markdown",
   "metadata": {},
   "source": [
    "Beautiful! Lasso recovered our model almost perfectly. The motivation for using sparse regularization is Occam's razor: the simplest explanation is usually the right one. The algorithm found that it only needs one term to fit the data, so it set the other terms to zero. This is the power of adding the norm $|\\mathbf w|$ to the loss. There's something I ignored when I use Lasso: how of the $L_1$ norm to include. You will see in the documentation that it is set to $1.0$ by default, but in my experience, you'll want to include much less than that to avoid making the model too simple. That's a hyperparameter that you can also loop over and see what works best for your model.\n",
    "\n",
    "Finally, we can test our model on the test set:"
   ]
  },
  {
   "cell_type": "code",
   "execution_count": 18,
   "metadata": {},
   "outputs": [
    {
     "name": "stdout",
     "output_type": "stream",
     "text": [
      "\n",
      "degree = 2\n",
      "validation score = 0.8005\n",
      "train score = 0.9562\n",
      "validation MSE = 9.5477\n",
      "train MSE = 7.1606\n"
     ]
    },
    {
     "data": {
      "image/png": "[encoded data removed]",
      "text/plain": [
       "<Figure size 432x288 with 1 Axes>"
      ]
     },
     "metadata": {
      "needs_background": "light"
     },
     "output_type": "display_data"
    }
   ],
   "source": [
    "# Print the errors\n",
    "print('\\ndegree = %d'%(d))\n",
    "print('validation score = %.4f'%( score_dev ))\n",
    "print('train score = %.4f'%( score_train ))\n",
    "print('validation MSE = %.4f'%(mse_dev))\n",
    "print('train MSE = %.4f'%(mse_train))\n",
    "\n",
    "fig = plt.figure()\n",
    "ax = fig.add_subplot(111)\n",
    "ax.plot(x, reg.predict(make_features(x, degree=d)), '--')\n",
    "ax.plot(x_train, y_train, '.')\n",
    "ax.plot(x_dev, y_dev, '^', ms=6)\n",
    "ax.plot(x_dev, reg.predict(make_features(x_dev, degree=d)), '.')\n",
    "ax.plot(x_test, y_test, '*', ms=6)\n",
    "ax.plot(x_test, reg.predict(make_features(x_test, degree=d)), '.')\n",
    "\n",
    "ax.set_xlabel('x')\n",
    "ax.set_ylabel('y')\n",
    "ax.legend(['polynomial fit', 'train data', 'dev data', 'dev prediction', 'test data', 'test prediction'])\n",
    "plt.show()"
   ]
  },
  {
   "cell_type": "markdown",
   "metadata": {},
   "source": [
    "Adding regularization will also prevent higher order polynomials from over-fitting. Lasso might get rid of all other features except the one you need! This is a teaser. Download the code and try it out yourself.\n",
    "\n",
    "One way of improving your predictions is to add more data. If you go back and set the data input to a 1000, you'll see that your results will be much better. The higher dimensional your feature vector, the more data you need. This is particularly the case with neural networks: those beasts are always data-hungry!"
   ]
  },
  {
   "cell_type": "markdown",
   "metadata": {},
   "source": [
    "### Symbolic Regression using PySR (https://github.com/MilesCranmer/PySR)"
   ]
  },
  {
   "cell_type": "code",
   "execution_count": 19,
   "metadata": {},
   "outputs": [
    {
     "data": {
      "text/plain": [
       "((64,), (16,), (20,))"
      ]
     },
     "execution_count": 19,
     "metadata": {},
     "output_type": "execute_result"
    }
   ],
   "source": [
    "y_train.shape, y_dev.shape, y_test.shape"
   ]
  },
  {
   "cell_type": "code",
   "execution_count": 20,
   "metadata": {
    "scrolled": true
   },
   "outputs": [
    {
     "data": {
      "image/png": "[encoded data removed]",
      "text/plain": [
       "<Figure size 432x288 with 1 Axes>"
      ]
     },
     "metadata": {
      "needs_background": "light"
     },
     "output_type": "display_data"
    }
   ],
   "source": [
    "# Visualize the data\n",
    "fig = plt.figure()\n",
    "plt.plot(x_train, y_train, 'k.')\n",
    "plt.plot(x_dev, y_dev, 'b.')\n",
    "plt.plot(x_test, y_test, 'r.')\n",
    "plt.legend(['train', 'dev', 'test'])\n",
    "plt.ylabel('y')\n",
    "plt.xlabel('x')\n",
    "plt.show()"
   ]
  },
  {
   "cell_type": "code",
   "execution_count": 21,
   "metadata": {},
   "outputs": [],
   "source": [
    "from pysr import pysr, best"
   ]
  },
  {
   "cell_type": "code",
   "execution_count": 22,
   "metadata": {},
   "outputs": [
    {
     "name": "stdout",
     "output_type": "stream",
     "text": [
      "Running on julia -O3 /tmp/tmp0czis11v/runfile.jl\n",
      "Activating environment on workers.\n",
      "      From worker 5:\t Activating environment at `~/anaconda3/lib/python3.6/site-packages/Project.toml`\n",
      "      From worker 3:\t Activating environment at `~/anaconda3/lib/python3.6/site-packages/Project.toml`\n",
      "      From worker 4:\t Activating environment at `~/anaconda3/lib/python3.6/site-packages/Project.toml`\n",
      "      From worker 2:\t Activating environment at `~/anaconda3/lib/python3.6/site-packages/Project.toml`\n",
      "Importing installed module on workers...Finished!\n",
      "Copying definition of inv to workers...Finished!\n",
      "Testing module on workers...Finished!\n",
      "Testing entire pipeline on workers...Finished!\n",
      "Started!\n",
      "\n",
      "Cycles per second: 4.530e+03\n",
      "Progress: 1 / 160 total iterations (0.625%)\n",
      "Hall of Fame:\n",
      "-----------------------------------------\n",
      "Complexity  Loss       Score     Equation\n",
      "3           7.230e+00  1.040e+00  (x0 * x0)\n",
      "5           7.152e+00  5.410e-03  (x0 * (0.076682 + x0))\n",
      "\n",
      "\n",
      "Cycles per second: 1.130e+04\n",
      "Progress: 4 / 160 total iterations (2.500%)\n",
      "Hall of Fame:\n",
      "-----------------------------------------\n",
      "Complexity  Loss       Score     Equation\n",
      "1           2.628e+02  -4.742e-01  3.797213\n",
      "2           1.636e+02  4.739e-01  inv(0.071563706)\n",
      "3           7.230e+00  3.119e+00  (x0 * x0)\n",
      "5           7.152e+00  5.411e-03  (x0 * (x0 + 0.07538566))\n",
      "\n",
      "\n",
      "Cycles per second: 2.150e+04\n",
      "Progress: 11 / 160 total iterations (6.875%)\n",
      "Hall of Fame:\n",
      "-----------------------------------------\n",
      "Complexity  Loss       Score     Equation\n",
      "1           2.335e+02  -3.561e-01  x0\n",
      "2           1.636e+02  3.558e-01  inv(0.071563706)\n",
      "3           7.230e+00  3.119e+00  (x0 * x0)\n",
      "5           7.212e+00  1.203e-03  (0.07538566 + (x0 * x0))\n",
      "7           7.152e+00  4.208e-03  ((0.07538566 * x0) + (x0 * x0))\n",
      "\n",
      "\n",
      "Cycles per second: 2.510e+04\n",
      "Progress: 17 / 160 total iterations (10.625%)\n",
      "Hall of Fame:\n",
      "-----------------------------------------\n",
      "Complexity  Loss       Score     Equation\n",
      "1           2.335e+02  -3.561e-01  x0\n",
      "2           1.636e+02  3.558e-01  inv(0.071563706)\n",
      "3           7.230e+00  3.119e+00  (x0 * x0)\n",
      "5           7.212e+00  1.203e-03  (0.07538566 + (x0 * x0))\n",
      "7           7.152e+00  4.208e-03  ((0.07538566 * x0) + (x0 * x0))\n",
      "\n",
      "\n",
      "Cycles per second: 2.850e+04\n",
      "Progress: 24 / 160 total iterations (15.000%)\n",
      "Hall of Fame:\n",
      "-----------------------------------------\n",
      "Complexity  Loss       Score     Equation\n",
      "1           2.335e+02  -3.561e-01  x0\n",
      "2           1.636e+02  3.558e-01  inv(0.071563706)\n",
      "3           7.230e+00  3.119e+00  (x0 * x0)\n",
      "7           7.152e+00  2.706e-03  ((0.07538566 * x0) + (x0 * x0))\n",
      "\n",
      "\n",
      "Cycles per second: 3.170e+04\n",
      "Progress: 32 / 160 total iterations (20.000%)\n",
      "Hall of Fame:\n",
      "-----------------------------------------\n",
      "Complexity  Loss       Score     Equation\n",
      "1           2.335e+02  -3.561e-01  x0\n",
      "2           1.636e+02  3.558e-01  inv(0.071563706)\n",
      "3           7.230e+00  3.119e+00  (x0 * x0)\n",
      "5           7.206e+00  1.620e-03  (0.15293756 + (x0 * x0))\n",
      "7           7.152e+00  3.791e-03  ((0.07538566 * x0) + (x0 * x0))\n",
      "\n",
      "\n",
      "Cycles per second: 3.410e+04\n",
      "Progress: 40 / 160 total iterations (25.000%)\n",
      "Hall of Fame:\n",
      "-----------------------------------------\n",
      "Complexity  Loss       Score     Equation\n",
      "1           2.335e+02  -3.561e-01  x0\n",
      "2           1.636e+02  3.558e-01  inv(0.071563706)\n",
      "3           7.230e+00  3.119e+00  (x0 * x0)\n",
      "5           7.212e+00  1.203e-03  (0.07538566 + (x0 * x0))\n",
      "7           7.152e+00  4.208e-03  ((0.07538566 * x0) + (x0 * x0))\n",
      "\n",
      "\n",
      "Cycles per second: 3.580e+04\n",
      "Progress: 48 / 160 total iterations (30.000%)\n",
      "Hall of Fame:\n",
      "-----------------------------------------\n",
      "Complexity  Loss       Score     Equation\n",
      "1           2.335e+02  -3.561e-01  x0\n",
      "2           1.636e+02  3.558e-01  inv(0.071563706)\n",
      "3           7.230e+00  3.119e+00  (x0 * x0)\n",
      "5           7.206e+00  1.620e-03  (0.15296803 + (x0 * x0))\n",
      "7           7.152e+00  3.791e-03  ((0.07538566 * x0) + (x0 * x0))\n",
      "\n",
      "\n",
      "Cycles per second: 3.720e+04\n",
      "Progress: 56 / 160 total iterations (35.000%)\n",
      "Hall of Fame:\n",
      "-----------------------------------------\n",
      "Complexity  Loss       Score     Equation\n",
      "1           2.335e+02  -3.561e-01  x0\n",
      "2           1.636e+02  3.558e-01  inv(0.071563706)\n",
      "3           7.230e+00  3.119e+00  (x0 * x0)\n",
      "5           7.158e+00  4.995e-03  (1.0146283 * (x0 * x0))\n",
      "7           7.152e+00  4.165e-04  ((0.07538566 * x0) + (x0 * x0))\n",
      "\n",
      "\n",
      "Cycles per second: 3.760e+04\n",
      "Progress: 63 / 160 total iterations (39.375%)\n",
      "Hall of Fame:\n",
      "-----------------------------------------\n",
      "Complexity  Loss       Score     Equation\n",
      "1           2.335e+02  -3.561e-01  x0\n",
      "2           1.636e+02  3.558e-01  inv(0.071563706)\n",
      "3           7.230e+00  3.119e+00  (x0 * x0)\n",
      "7           7.152e+00  2.706e-03  ((0.07538566 * x0) + (x0 * x0))\n",
      "\n",
      "\n",
      "Cycles per second: 3.960e+04\n",
      "Progress: 67 / 160 total iterations (41.875%)\n",
      "Hall of Fame:\n",
      "-----------------------------------------\n",
      "Complexity  Loss       Score     Equation\n",
      "1           2.335e+02  -3.561e-01  x0\n",
      "2           1.636e+02  3.558e-01  inv(0.071563706)\n",
      "3           7.230e+00  3.119e+00  (x0 * x0)\n",
      "5           7.212e+00  1.203e-03  (0.07538566 + (x0 * x0))\n",
      "7           7.152e+00  4.208e-03  ((0.07538566 * x0) + (x0 * x0))\n",
      "8           6.828e+00  4.637e-02  inv(sin(inv(-0.029984476 + (x0 * x0))))\n",
      "\n",
      "\n",
      "Cycles per second: 3.840e+04\n",
      "Progress: 68 / 160 total iterations (42.500%)\n",
      "Hall of Fame:\n",
      "-----------------------------------------\n",
      "Complexity  Loss       Score     Equation\n",
      "1           2.335e+02  -3.561e-01  x0\n",
      "2           1.636e+02  3.558e-01  inv(0.071563706)\n",
      "3           7.230e+00  3.119e+00  (x0 * x0)\n",
      "5           7.212e+00  1.203e-03  (0.07538566 + (x0 * x0))\n",
      "7           7.152e+00  4.208e-03  ((0.07538566 * x0) + (x0 * x0))\n",
      "8           6.828e+00  4.637e-02  inv(sin(inv(-0.029984476 + (x0 * x0))))\n",
      "\n",
      "\n",
      "Cycles per second: 3.600e+04\n",
      "Progress: 71 / 160 total iterations (44.375%)\n",
      "Hall of Fame:\n",
      "-----------------------------------------\n",
      "Complexity  Loss       Score     Equation\n",
      "1           2.335e+02  -3.561e-01  x0\n",
      "2           1.636e+02  3.558e-01  inv(0.071563706)\n",
      "3           7.230e+00  3.119e+00  (x0 * x0)\n",
      "5           7.212e+00  1.203e-03  (0.07538566 + (x0 * x0))\n",
      "7           7.152e+00  4.208e-03  ((0.07538566 * x0) + (x0 * x0))\n",
      "8           6.828e+00  4.637e-02  inv(sin(inv(-0.029984476 + (x0 * x0))))\n",
      "10          6.688e+00  1.036e-02  (0.2566704 + inv(sin(inv(0.008451298 + (x0 * x0)))))\n",
      "\n",
      "\n",
      "Cycles per second: 3.360e+04\n",
      "Progress: 73 / 160 total iterations (45.625%)\n",
      "Hall of Fame:\n",
      "-----------------------------------------\n",
      "Complexity  Loss       Score     Equation\n",
      "1           2.335e+02  -3.561e-01  x0\n",
      "2           1.636e+02  3.558e-01  inv(0.071563706)\n",
      "3           7.230e+00  3.119e+00  (x0 * x0)\n",
      "5           7.212e+00  1.203e-03  (0.07538566 + (x0 * x0))\n",
      "7           7.152e+00  4.208e-03  ((0.07538566 * x0) + (x0 * x0))\n",
      "8           6.753e+00  5.741e-02  inv(sin(inv(0.008447 + (x0 * x0))))\n",
      "10          6.691e+00  4.586e-03  (1.0135299 * inv(sin(inv(0.008446946 + (x0 * x0)))))\n",
      "\n",
      "\n",
      "Cycles per second: 3.000e+04\n",
      "Progress: 74 / 160 total iterations (46.250%)\n",
      "Hall of Fame:\n",
      "-----------------------------------------\n",
      "Complexity  Loss       Score     Equation\n",
      "1           2.335e+02  -3.561e-01  x0\n",
      "2           1.636e+02  3.558e-01  inv(0.071563706)\n",
      "3           7.230e+00  3.119e+00  (x0 * x0)\n",
      "5           7.212e+00  1.203e-03  (0.07538566 + (x0 * x0))\n",
      "7           7.152e+00  4.208e-03  ((0.07538566 * x0) + (x0 * x0))\n",
      "8           6.753e+00  5.730e-02  inv(sin(inv(0.008451298 + (x0 * x0))))\n",
      "10          6.688e+00  4.895e-03  (0.2566704 + inv(sin(inv(0.008451298 + (x0 * x0)))))\n",
      "\n",
      "\n",
      "Cycles per second: 2.640e+04\n",
      "Progress: 76 / 160 total iterations (47.500%)\n",
      "Hall of Fame:\n",
      "-----------------------------------------\n",
      "Complexity  Loss       Score     Equation\n",
      "1           2.335e+02  -3.561e-01  x0\n",
      "2           1.636e+02  3.558e-01  inv(0.071563706)\n",
      "3           7.230e+00  3.119e+00  (x0 * x0)\n",
      "5           7.212e+00  1.203e-03  (0.07538566 + (x0 * x0))\n",
      "7           7.152e+00  4.208e-03  ((0.07538566 * x0) + (x0 * x0))\n",
      "8           6.753e+00  5.730e-02  inv(sin(inv(0.008451298 + (x0 * x0))))\n",
      "10          6.688e+00  4.895e-03  (0.2566704 + inv(sin(inv(0.008451298 + (x0 * x0)))))\n",
      "\n",
      "\n",
      "Cycles per second: 2.280e+04\n",
      "Progress: 78 / 160 total iterations (48.750%)\n",
      "Hall of Fame:\n",
      "-----------------------------------------\n",
      "Complexity  Loss       Score     Equation\n",
      "1           2.335e+02  -3.561e-01  x0\n",
      "2           1.636e+02  3.558e-01  inv(0.071563706)\n",
      "3           7.230e+00  3.119e+00  (x0 * x0)\n",
      "5           7.212e+00  1.203e-03  (0.07538566 + (x0 * x0))\n",
      "7           7.152e+00  4.208e-03  ((0.07538566 * x0) + (x0 * x0))\n",
      "8           6.753e+00  5.730e-02  inv(sin(inv(0.008451298 + (x0 * x0))))\n",
      "10          6.688e+00  4.895e-03  (0.2566704 + inv(sin(inv(0.008451298 + (x0 * x0)))))\n",
      "\n"
     ]
    },
    {
     "name": "stdout",
     "output_type": "stream",
     "text": [
      "\n",
      "Cycles per second: 1.860e+04\n",
      "Progress: 79 / 160 total iterations (49.375%)\n",
      "Hall of Fame:\n",
      "-----------------------------------------\n",
      "Complexity  Loss       Score     Equation\n",
      "1           2.335e+02  -3.561e-01  x0\n",
      "2           1.636e+02  3.558e-01  inv(0.071563706)\n",
      "3           7.230e+00  3.119e+00  (x0 * x0)\n",
      "5           7.212e+00  1.203e-03  (0.07538566 + (x0 * x0))\n",
      "7           7.152e+00  4.208e-03  ((0.07538566 * x0) + (x0 * x0))\n",
      "8           6.737e+00  5.970e-02  inv(sin(inv(0.09378619 + (x0 * x0))))\n",
      "10          6.688e+00  3.697e-03  (0.2566704 + inv(sin(inv(0.008451298 + (x0 * x0)))))\n",
      "\n",
      "\n",
      "Cycles per second: 1.440e+04\n",
      "Progress: 80 / 160 total iterations (50.000%)\n",
      "Hall of Fame:\n",
      "-----------------------------------------\n",
      "Complexity  Loss       Score     Equation\n",
      "1           2.335e+02  -3.561e-01  x0\n",
      "2           1.636e+02  3.558e-01  inv(0.071563706)\n",
      "3           7.230e+00  3.119e+00  (x0 * x0)\n",
      "5           7.212e+00  1.203e-03  (0.07538566 + (x0 * x0))\n",
      "7           7.152e+00  4.208e-03  ((0.07538566 * x0) + (x0 * x0))\n",
      "8           6.737e+00  5.970e-02  inv(sin(inv(0.09378619 + (x0 * x0))))\n",
      "10          6.688e+00  3.697e-03  (0.2566704 + inv(sin(inv(0.008451298 + (x0 * x0)))))\n",
      "\n",
      "\n",
      "Cycles per second: 1.260e+04\n",
      "Progress: 84 / 160 total iterations (52.500%)\n",
      "Hall of Fame:\n",
      "-----------------------------------------\n",
      "Complexity  Loss       Score     Equation\n",
      "1           2.335e+02  -3.561e-01  x0\n",
      "2           1.636e+02  3.558e-01  inv(0.071563706)\n",
      "3           7.230e+00  3.119e+00  (x0 * x0)\n",
      "5           7.212e+00  1.203e-03  (0.07538566 + (x0 * x0))\n",
      "7           7.152e+00  4.208e-03  ((0.07538566 * x0) + (x0 * x0))\n",
      "8           6.737e+00  5.970e-02  inv(sin(inv(0.09378619 + (x0 * x0))))\n",
      "10          6.688e+00  3.697e-03  (0.2566704 + inv(sin(inv(0.008451298 + (x0 * x0)))))\n",
      "\n",
      "\n",
      "Cycles per second: 1.260e+04\n",
      "Progress: 88 / 160 total iterations (55.000%)\n",
      "Hall of Fame:\n",
      "-----------------------------------------\n",
      "Complexity  Loss       Score     Equation\n",
      "1           2.335e+02  -3.561e-01  x0\n",
      "2           1.636e+02  3.558e-01  inv(0.071563706)\n",
      "3           7.230e+00  3.119e+00  (x0 * x0)\n",
      "5           7.212e+00  1.203e-03  (0.07538566 + (x0 * x0))\n",
      "7           7.152e+00  4.208e-03  ((0.07538566 * x0) + (x0 * x0))\n",
      "8           6.753e+00  5.730e-02  inv(sin(inv(0.008451298 + (x0 * x0))))\n",
      "10          6.688e+00  4.895e-03  (0.2566704 + inv(sin(inv(0.008451298 + (x0 * x0)))))\n",
      "\n",
      "\n",
      "Cycles per second: 1.500e+04\n",
      "Progress: 93 / 160 total iterations (58.125%)\n",
      "Hall of Fame:\n",
      "-----------------------------------------\n",
      "Complexity  Loss       Score     Equation\n",
      "1           2.335e+02  -3.561e-01  x0\n",
      "2           1.636e+02  3.558e-01  inv(0.071563706)\n",
      "3           7.230e+00  3.119e+00  (x0 * x0)\n",
      "5           7.212e+00  1.203e-03  (0.07538566 + (x0 * x0))\n",
      "7           7.152e+00  4.208e-03  ((0.07538566 * x0) + (x0 * x0))\n",
      "8           6.753e+00  5.730e-02  inv(sin(inv(0.008451298 + (x0 * x0))))\n",
      "10          6.688e+00  4.895e-03  (0.2566704 + inv(sin(inv(0.008451298 + (x0 * x0)))))\n",
      "\n",
      "\n",
      "Cycles per second: 1.560e+04\n",
      "Progress: 97 / 160 total iterations (60.625%)\n",
      "Hall of Fame:\n",
      "-----------------------------------------\n",
      "Complexity  Loss       Score     Equation\n",
      "1           2.335e+02  -3.561e-01  x0\n",
      "2           1.636e+02  3.558e-01  inv(0.071563706)\n",
      "3           7.230e+00  3.119e+00  (x0 * x0)\n",
      "5           7.212e+00  1.203e-03  (0.07538566 + (x0 * x0))\n",
      "7           7.152e+00  4.208e-03  ((0.07538566 * x0) + (x0 * x0))\n",
      "8           6.753e+00  5.730e-02  inv(sin(inv(0.008451298 + (x0 * x0))))\n",
      "10          6.688e+00  4.895e-03  (0.2566704 + inv(sin(inv(0.008451298 + (x0 * x0)))))\n",
      "\n",
      "\n",
      "Cycles per second: 1.680e+04\n",
      "Progress: 101 / 160 total iterations (63.125%)\n",
      "Hall of Fame:\n",
      "-----------------------------------------\n",
      "Complexity  Loss       Score     Equation\n",
      "1           2.335e+02  -3.561e-01  x0\n",
      "2           1.636e+02  3.558e-01  inv(0.071563706)\n",
      "3           7.230e+00  3.119e+00  (x0 * x0)\n",
      "5           7.212e+00  1.203e-03  (0.07538566 + (x0 * x0))\n",
      "7           7.152e+00  4.208e-03  ((0.07538566 * x0) + (x0 * x0))\n",
      "8           6.753e+00  5.730e-02  inv(sin(inv(0.008451298 + (x0 * x0))))\n",
      "10          6.688e+00  4.895e-03  (0.2566704 + inv(sin(inv(0.008451298 + (x0 * x0)))))\n",
      "\n",
      "\n",
      "Cycles per second: 1.800e+04\n",
      "Progress: 104 / 160 total iterations (65.000%)\n",
      "Hall of Fame:\n",
      "-----------------------------------------\n",
      "Complexity  Loss       Score     Equation\n",
      "1           2.335e+02  -3.561e-01  x0\n",
      "2           1.636e+02  3.558e-01  inv(0.071563706)\n",
      "3           7.230e+00  3.119e+00  (x0 * x0)\n",
      "5           7.212e+00  1.203e-03  (0.07538566 + (x0 * x0))\n",
      "7           7.152e+00  4.208e-03  ((0.07538566 * x0) + (x0 * x0))\n",
      "8           6.753e+00  5.730e-02  inv(sin(inv(0.008451298 + (x0 * x0))))\n",
      "10          6.688e+00  4.895e-03  (0.2566704 + inv(sin(inv(0.008451298 + (x0 * x0)))))\n",
      "\n",
      "\n",
      "Cycles per second: 1.920e+04\n",
      "Progress: 108 / 160 total iterations (67.500%)\n",
      "Hall of Fame:\n",
      "-----------------------------------------\n",
      "Complexity  Loss       Score     Equation\n",
      "1           2.335e+02  -3.561e-01  x0\n",
      "2           1.636e+02  3.558e-01  inv(0.071563706)\n",
      "3           7.230e+00  3.119e+00  (x0 * x0)\n",
      "5           7.212e+00  1.203e-03  (0.07538566 + (x0 * x0))\n",
      "7           7.152e+00  4.208e-03  ((0.07538566 * x0) + (x0 * x0))\n",
      "8           6.753e+00  5.730e-02  inv(sin(inv(0.008451298 + (x0 * x0))))\n",
      "10          6.688e+00  4.895e-03  (0.2566704 + inv(sin(inv(0.008451298 + (x0 * x0)))))\n",
      "\n",
      "\n",
      "Cycles per second: 1.980e+04\n",
      "Progress: 111 / 160 total iterations (69.375%)\n",
      "Hall of Fame:\n",
      "-----------------------------------------\n",
      "Complexity  Loss       Score     Equation\n",
      "1           2.335e+02  -3.561e-01  x0\n",
      "2           1.636e+02  3.558e-01  inv(0.071563706)\n",
      "3           7.230e+00  3.119e+00  (x0 * x0)\n",
      "5           7.212e+00  1.203e-03  (0.07538566 + (x0 * x0))\n",
      "7           7.152e+00  4.208e-03  ((0.07538566 * x0) + (x0 * x0))\n",
      "8           6.753e+00  5.730e-02  inv(sin(inv(0.008451298 + (x0 * x0))))\n",
      "10          6.688e+00  4.895e-03  (0.2566704 + inv(sin(inv(0.008451298 + (x0 * x0)))))\n",
      "\n",
      "\n",
      "Cycles per second: 2.160e+04\n",
      "Progress: 115 / 160 total iterations (71.875%)\n",
      "Hall of Fame:\n",
      "-----------------------------------------\n",
      "Complexity  Loss       Score     Equation\n",
      "1           2.335e+02  -3.561e-01  x0\n",
      "2           1.636e+02  3.558e-01  inv(0.071563706)\n",
      "3           7.230e+00  3.119e+00  (x0 * x0)\n",
      "5           7.212e+00  1.203e-03  (0.07538566 + (x0 * x0))\n",
      "8           6.753e+00  2.191e-02  inv(sin(inv(0.008451298 + (x0 * x0))))\n",
      "10          6.688e+00  4.895e-03  (0.2566704 + inv(sin(inv(0.008451298 + (x0 * x0)))))\n",
      "\n",
      "\n",
      "Cycles per second: 2.400e+04\n",
      "Progress: 120 / 160 total iterations (75.000%)\n",
      "Hall of Fame:\n",
      "-----------------------------------------\n",
      "Complexity  Loss       Score     Equation\n",
      "1           2.335e+02  -3.561e-01  x0\n",
      "2           1.636e+02  3.558e-01  inv(0.071563706)\n",
      "3           7.230e+00  3.119e+00  (x0 * x0)\n",
      "5           7.212e+00  1.203e-03  (0.07538566 + (x0 * x0))\n",
      "7           7.152e+00  4.208e-03  ((0.07538566 * x0) + (x0 * x0))\n",
      "8           6.753e+00  5.730e-02  inv(sin(inv(0.008451298 + (x0 * x0))))\n",
      "10          6.688e+00  4.895e-03  (0.2566704 + inv(sin(inv(0.008451298 + (x0 * x0)))))\n",
      "\n",
      "\n",
      "Cycles per second: 2.460e+04\n",
      "Progress: 125 / 160 total iterations (78.125%)\n",
      "Hall of Fame:\n",
      "-----------------------------------------\n",
      "Complexity  Loss       Score     Equation\n",
      "1           2.335e+02  -3.561e-01  x0\n",
      "2           1.636e+02  3.558e-01  inv(0.071563706)\n",
      "3           7.230e+00  3.119e+00  (x0 * x0)\n",
      "5           7.212e+00  1.203e-03  (0.07538566 + (x0 * x0))\n",
      "7           7.152e+00  4.208e-03  ((0.07538566 * x0) + (x0 * x0))\n",
      "8           6.753e+00  5.730e-02  inv(sin(inv(0.008451298 + (x0 * x0))))\n",
      "10          6.688e+00  4.895e-03  (0.25647068 + inv(sin(inv(0.008451264 + (x0 * x0)))))\n",
      "\n",
      "\n",
      "Cycles per second: 2.460e+04\n",
      "Progress: 129 / 160 total iterations (80.625%)\n",
      "Hall of Fame:\n",
      "-----------------------------------------\n",
      "Complexity  Loss       Score     Equation\n",
      "1           2.335e+02  -3.561e-01  x0\n",
      "2           1.636e+02  3.558e-01  inv(0.071563706)\n",
      "3           7.230e+00  3.119e+00  (x0 * x0)\n",
      "5           7.212e+00  1.203e-03  (0.07538566 + (x0 * x0))\n",
      "7           7.152e+00  4.208e-03  ((0.07538566 * x0) + (x0 * x0))\n",
      "8           6.753e+00  5.730e-02  inv(sin(inv(0.008451264 + (x0 * x0))))\n",
      "10          6.688e+00  4.894e-03  (0.25647068 + inv(sin(inv(0.008451264 + (x0 * x0)))))\n",
      "\n"
     ]
    },
    {
     "name": "stdout",
     "output_type": "stream",
     "text": [
      "\n",
      "Cycles per second: 2.400e+04\n",
      "Progress: 133 / 160 total iterations (83.125%)\n",
      "Hall of Fame:\n",
      "-----------------------------------------\n",
      "Complexity  Loss       Score     Equation\n",
      "1           2.335e+02  -3.561e-01  x0\n",
      "2           1.636e+02  3.558e-01  inv(0.071563706)\n",
      "3           7.230e+00  3.119e+00  (x0 * x0)\n",
      "5           7.212e+00  1.203e-03  (0.07538566 + (x0 * x0))\n",
      "7           7.152e+00  4.208e-03  ((0.07538566 * x0) + (x0 * x0))\n",
      "8           6.753e+00  5.730e-02  inv(sin(inv(0.008451264 + (x0 * x0))))\n",
      "10          6.688e+00  4.894e-03  (0.25647068 + inv(sin(inv(0.008451264 + (x0 * x0)))))\n",
      "\n",
      "\n",
      "Cycles per second: 2.400e+04\n",
      "Progress: 137 / 160 total iterations (85.625%)\n",
      "Hall of Fame:\n",
      "-----------------------------------------\n",
      "Complexity  Loss       Score     Equation\n",
      "1           2.335e+02  -3.561e-01  x0\n",
      "2           1.636e+02  3.558e-01  inv(0.071563706)\n",
      "3           7.230e+00  3.119e+00  (x0 * x0)\n",
      "5           7.212e+00  1.203e-03  (0.07538566 + (x0 * x0))\n",
      "7           7.152e+00  4.208e-03  ((0.07538566 * x0) + (x0 * x0))\n",
      "8           6.753e+00  5.730e-02  inv(sin(inv(0.008451264 + (x0 * x0))))\n",
      "10          6.688e+00  4.894e-03  (0.25647068 + inv(sin(inv(0.008451264 + (x0 * x0)))))\n",
      "\n",
      "\n",
      "Cycles per second: 2.400e+04\n",
      "Progress: 141 / 160 total iterations (88.125%)\n",
      "Hall of Fame:\n",
      "-----------------------------------------\n",
      "Complexity  Loss       Score     Equation\n",
      "1           2.335e+02  -3.561e-01  x0\n",
      "2           1.636e+02  3.558e-01  inv(0.071563706)\n",
      "3           7.230e+00  3.119e+00  (x0 * x0)\n",
      "5           7.212e+00  1.203e-03  (0.07538566 + (x0 * x0))\n",
      "7           7.152e+00  4.208e-03  ((0.07538566 * x0) + (x0 * x0))\n",
      "8           6.753e+00  5.730e-02  inv(sin(inv(0.008451264 + (x0 * x0))))\n",
      "10          6.688e+00  4.894e-03  (0.25647068 + inv(sin(inv(0.008451264 + (x0 * x0)))))\n",
      "\n",
      "\n",
      "Cycles per second: 2.460e+04\n",
      "Progress: 145 / 160 total iterations (90.625%)\n",
      "Hall of Fame:\n",
      "-----------------------------------------\n",
      "Complexity  Loss       Score     Equation\n",
      "1           2.335e+02  -3.561e-01  x0\n",
      "2           1.636e+02  3.558e-01  inv(0.071563706)\n",
      "3           7.230e+00  3.119e+00  (x0 * x0)\n",
      "5           7.212e+00  1.203e-03  (0.07538566 + (x0 * x0))\n",
      "7           7.152e+00  4.208e-03  ((0.07538566 * x0) + (x0 * x0))\n",
      "8           6.753e+00  5.730e-02  inv(sin(inv(0.008451264 + (x0 * x0))))\n",
      "10          6.688e+00  4.894e-03  (0.25647068 + inv(sin(inv(0.008451264 + (x0 * x0)))))\n",
      "\n",
      "\n",
      "Cycles per second: 2.460e+04\n",
      "Progress: 149 / 160 total iterations (93.125%)\n",
      "Hall of Fame:\n",
      "-----------------------------------------\n",
      "Complexity  Loss       Score     Equation\n",
      "1           2.335e+02  -3.561e-01  x0\n",
      "2           1.636e+02  3.558e-01  inv(0.071563706)\n",
      "3           7.230e+00  3.119e+00  (x0 * x0)\n",
      "5           7.212e+00  1.203e-03  (0.07538566 + (x0 * x0))\n",
      "7           7.152e+00  4.208e-03  ((0.07538566 * x0) + (x0 * x0))\n",
      "8           6.753e+00  5.730e-02  inv(sin(inv(0.008451264 + (x0 * x0))))\n",
      "10          6.688e+00  4.894e-03  (0.25647068 + inv(sin(inv(0.008451264 + (x0 * x0)))))\n",
      "\n",
      "\n",
      "Cycles per second: 2.520e+04\n",
      "Progress: 153 / 160 total iterations (95.625%)\n",
      "Hall of Fame:\n",
      "-----------------------------------------\n",
      "Complexity  Loss       Score     Equation\n",
      "1           2.335e+02  -3.561e-01  x0\n",
      "2           1.636e+02  3.558e-01  inv(0.071563706)\n",
      "3           7.230e+00  3.119e+00  (x0 * x0)\n",
      "5           7.212e+00  1.203e-03  (0.07538566 + (x0 * x0))\n",
      "7           7.152e+00  4.208e-03  ((0.07538566 * x0) + (x0 * x0))\n",
      "8           6.753e+00  5.730e-02  inv(sin(inv(0.008451264 + (x0 * x0))))\n",
      "10          6.688e+00  4.894e-03  (0.25647068 + inv(sin(inv(0.008451264 + (x0 * x0)))))\n",
      "\n",
      "\n",
      "Cycles per second: 2.520e+04\n",
      "Progress: 157 / 160 total iterations (98.125%)\n",
      "Hall of Fame:\n",
      "-----------------------------------------\n",
      "Complexity  Loss       Score     Equation\n",
      "1           2.335e+02  -3.561e-01  x0\n",
      "2           1.636e+02  3.558e-01  inv(0.071563706)\n",
      "3           7.230e+00  3.119e+00  (x0 * x0)\n",
      "5           7.193e+00  2.566e-03  (1.00444 * (x0 * x0))\n",
      "7           7.152e+00  2.846e-03  ((0.07538566 * x0) + (x0 * x0))\n",
      "8           6.753e+00  5.730e-02  inv(sin(inv(0.008451264 + (x0 * x0))))\n",
      "10          6.688e+00  4.894e-03  (0.25647068 + inv(sin(inv(0.008451264 + (x0 * x0)))))\n",
      "\n",
      "CPU times: user 260 ms, sys: 40 ms, total: 300 ms\n",
      "Wall time: 4min 41s\n"
     ]
    }
   ],
   "source": [
    "%%time\n",
    "model = pysr(\n",
    " x_train,\n",
    " y_train,\n",
    " niterations=40,\n",
    " binary_operators=[\"+\",\"*\"],\n",
    " unary_operators=[\n",
    " \"cos\",\n",
    " \"exp\",\n",
    " \"sin\",\n",
    "\"inv(x) = 1/x\", # Define your own operator!)\n",
    " ]\n",
    ")"
   ]
  },
  {
   "cell_type": "code",
   "execution_count": 23,
   "metadata": {},
   "outputs": [
    {
     "name": "stdout",
     "output_type": "stream",
     "text": [
      "x0**2\n"
     ]
    }
   ],
   "source": [
    "print(best(model))"
   ]
  },
  {
   "cell_type": "code",
   "execution_count": 24,
   "metadata": {},
   "outputs": [],
   "source": [
    "y_p_train=x_train**2\n",
    "y_p_dev=x_dev**2\n",
    "y_p_test=x_test**2"
   ]
  },
  {
   "cell_type": "code",
   "execution_count": 25,
   "metadata": {},
   "outputs": [
    {
     "data": {
      "image/png": "[encoded data removed]",
      "text/plain": [
       "<Figure size 432x288 with 1 Axes>"
      ]
     },
     "metadata": {
      "needs_background": "light"
     },
     "output_type": "display_data"
    }
   ],
   "source": [
    "# Visualize the data\n",
    "fig = plt.figure()\n",
    "plt.plot(x_train, y_train, 'k.')\n",
    "plt.plot(x_train, y_p_train, 'm.')\n",
    "plt.plot(x_dev, y_dev, 'b.')\n",
    "plt.plot(x_dev, y_p_dev, 'g.')\n",
    "plt.plot(x_test, y_test, 'r.')\n",
    "plt.plot(x_test, y_p_test, 'y.')\n",
    "plt.legend(['train', 'dev', 'test'])\n",
    "plt.ylabel('y')\n",
    "plt.xlabel('x')\n",
    "plt.show()"
   ]
  }
 ],
 "metadata": {
  "colab": {
   "name": "ML_tutorial.ipynb",
   "provenance": []
  },
  "kernelspec": {
   "display_name": "Python 3",
   "language": "python",
   "name": "python3"
  },
  "language_info": {
   "codemirror_mode": {
    "name": "ipython",
    "version": 3
   },
   "file_extension": ".py",
   "mimetype": "text/x-python",
   "name": "python",
   "nbconvert_exporter": "python",
   "pygments_lexer": "ipython3",
   "version": "3.6.13"
  }
 },
 "nbformat": 4,
 "nbformat_minor": 4
}
