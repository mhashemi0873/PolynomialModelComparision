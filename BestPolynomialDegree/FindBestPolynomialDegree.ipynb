{
 "cells": [
  {
   "cell_type": "code",
   "execution_count": 30,
   "metadata": {
    "collapsed": true
   },
   "outputs": [],
   "source": [
    "import os\n",
    "import sys\n",
    "import time#data = pystan.read_rdump('data.R')\n",
    "import numpy as np\n",
    "from numpy import *\n",
    "from pylab import *\n",
    "from scipy import *\n",
    "from matplotlib.pyplot import *\n",
    "import matplotlib.pyplot as plt\n",
    "\n",
    "\n",
    "import pystan"
   ]
  },
  {
   "cell_type": "code",
   "execution_count": 31,
   "metadata": {
    "collapsed": true
   },
   "outputs": [],
   "source": [
    "from mpl_toolkits.mplot3d import Axes3D\n",
    "import matplotlib.colors as mcolors\n",
    "from IPython.display import HTML"
   ]
  },
  {
   "cell_type": "code",
   "execution_count": 32,
   "metadata": {},
   "outputs": [
    {
     "name": "stdout",
     "output_type": "stream",
     "text": [
      "Populating the interactive namespace from numpy and matplotlib\n"
     ]
    },
    {
     "name": "stderr",
     "output_type": "stream",
     "text": [
      "/home/meysam/anaconda3/lib/python3.6/site-packages/IPython/core/magics/pylab.py:160: UserWarning: pylab import has clobbered these variables: ['log10', 'power', 'arctanh', 'test', '__version__', 'show_config', 'draw_if_interactive', 'arcsin', 'arccos', 'log2', 'linalg', 'sqrt', 'log', 'fft']\n",
      "`%matplotlib` prevents importing * from pylab and numpy\n",
      "  \"\\n`%matplotlib` prevents importing * from pylab and numpy\"\n"
     ]
    }
   ],
   "source": [
    "%pylab inline\n",
    "#%matplotlib notebook\n",
    "plt.style.use('seaborn-talk');"
   ]
  },
  {
   "cell_type": "markdown",
   "metadata": {},
   "source": [
    "In this toy example, we first generate a synthetic data  using a second-order polynomial and we then fit different models  (polynomials order 1,2, 3, and 5) in order to see which model best explains the generated data."
   ]
  },
  {
   "cell_type": "markdown",
   "metadata": {},
   "source": [
    "# Generate Synthetic Data"
   ]
  },
  {
   "cell_type": "code",
   "execution_count": 33,
   "metadata": {
    "collapsed": true
   },
   "outputs": [],
   "source": [
    "a = 5\n",
    "b = 3\n",
    "c=2\n",
    "sigma=1\n",
    "random.seed(11442)\n",
    "noise =sigma * randn() "
   ]
  },
  {
   "cell_type": "code",
   "execution_count": 34,
   "metadata": {
    "collapsed": true
   },
   "outputs": [],
   "source": [
    "nt = 100\n",
    "t = linspace(-5, 5, nt)\n",
    "y = a*(t**2)+b*t+c\n",
    "\n",
    "yobs = yobs = y+sigma*randn(y.size)"
   ]
  },
  {
   "cell_type": "code",
   "execution_count": 35,
   "metadata": {},
   "outputs": [
    {
     "data": {
      "image/png": "[encoded data removed]",
      "text/plain": [
       "<matplotlib.figure.Figure at 0x7f8f6f58b550>"
      ]
     },
     "metadata": {},
     "output_type": "display_data"
    }
   ],
   "source": [
    "figure(figsize=(6, 4))\n",
    "\n",
    "plot(t,y, color='b', linewidth=2.0, label='True signal')\n",
    "plot(t, yobs,'r*', label=' Synthetic data' )\n",
    "\n",
    "xlabel(\"index\")\n",
    "ylabel(\"y\")\n",
    "title('True signal vs Synthetic data')\n",
    "legend()\n",
    "tight_layout()\n",
    "show() "
   ]
  },
  {
   "cell_type": "markdown",
   "metadata": {},
   "source": [
    "\n",
    "\n",
    "# Save Data to run Stan"
   ]
  },
  {
   "cell_type": "code",
   "execution_count": 36,
   "metadata": {
    "collapsed": true
   },
   "outputs": [],
   "source": [
    "data_input= {'nt': nt, 't': t, 'yobs': yobs}\n",
    "\n",
    "\n",
    "nd=[]\n",
    "npz = {'nd': nd}\n",
    "npz.update(data_input)\n",
    "\n",
    "savez('data_input.npz', **npz)\n",
    "savez('data_input.R.npz', **npz)\n",
    "pystan.stan_rdump(data_input, 'data_input.R')"
   ]
  },
  {
   "cell_type": "code",
   "execution_count": 37,
   "metadata": {
    "collapsed": true
   },
   "outputs": [],
   "source": [
    "data_input = dict(load('data_input.R.npz'))\n",
    "\n",
    "#data = pystan.read_rdump('data.R')"
   ]
  },
  {
   "cell_type": "markdown",
   "metadata": {},
   "source": [
    "# Generate SweepData for Stan"
   ]
  },
  {
   "cell_type": "code",
   "execution_count": 38,
   "metadata": {},
   "outputs": [
    {
     "data": {
      "text/plain": [
       "'/home/meysam/WorkLinux/PolynomialModelComparision/BestPolynomialDegree'"
      ]
     },
     "execution_count": 38,
     "metadata": {},
     "output_type": "execute_result"
    }
   ],
   "source": [
    "cwd = os.getcwd()\n",
    "cwd"
   ]
  },
  {
   "cell_type": "code",
   "execution_count": 39,
   "metadata": {
    "collapsed": true
   },
   "outputs": [],
   "source": [
    "ndegree=0.0"
   ]
  },
  {
   "cell_type": "code",
   "execution_count": 40,
   "metadata": {
    "collapsed": true
   },
   "outputs": [],
   "source": [
    "data_dict= {'nt': nt, 'ndegree': ndegree, 't': t, 'yobs': yobs}\n",
    "\n",
    "\n",
    "nd=[]\n",
    "npz = {'nd': nd}\n",
    "npz.update(data_dict)\n",
    "\n",
    "savez('data_input.npz', **npz)\n",
    "savez('data_input.R.npz', **npz)\n",
    "pystan.stan_rdump(data_dict, 'data_input.R')"
   ]
  },
  {
   "cell_type": "code",
   "execution_count": 41,
   "metadata": {
    "collapsed": true
   },
   "outputs": [],
   "source": [
    "filename = \"data_input\"\n",
    "\n",
    "if filename in os.listdir(cwd):\n",
    "    print('Directory Exists')\n",
    "        \n",
    "if not os.path.exists(os.path.join(cwd, filename)):\n",
    "    try:\n",
    "        os.mkdir(os.path.join(cwd, filename))\n",
    "    except OSError as exception: \n",
    "        if exception.errno != errno.EEXIST:\n",
    "            raise"
   ]
  },
  {
   "cell_type": "code",
   "execution_count": 42,
   "metadata": {
    "collapsed": true
   },
   "outputs": [],
   "source": [
    "cwd_datainput= os.path.join(cwd, filename)"
   ]
  },
  {
   "cell_type": "code",
   "execution_count": 43,
   "metadata": {
    "collapsed": true
   },
   "outputs": [],
   "source": [
    "npz.update(data_dict)\n",
    "\n",
    "ndegree=array([1, 2, 3, 5])\n",
    "\n",
    "\n",
    "idx_R=0\n",
    "for i in range(1,len(ndegree)+1):\n",
    "                npz.update({\"ndegree\":  ndegree [i-1]})\n",
    "                idx_R= idx_R+1\n",
    "                \"data_input\" + str(idx_R) + \".R.npz\"\n",
    "                \"data_input%s.R.npz\" % idx_R\n",
    "                file_name_npz=\"data_input{}.npz\".format(idx_R)\n",
    "                savez(os.path.join(cwd_datainput, file_name_npz), **npz)\n",
    "                \n",
    "                file_name_Rnpz=\"data_input{}.R.npz\".format(idx_R)\n",
    "                savez(os.path.join(cwd_datainput, file_name_Rnpz), **npz)\n",
    "                \n",
    "                file_name_R=\"data_input{}.R\".format(idx_R)\n",
    "                os.chdir(cwd_datainput)\n",
    "                pystan.stan_rdump( npz, file_name_R)\n",
    "  "
   ]
  },
  {
   "cell_type": "code",
   "execution_count": 44,
   "metadata": {},
   "outputs": [
    {
     "name": "stdout",
     "output_type": "stream",
     "text": [
      "/home/meysam/WorkLinux/PolynomialModelComparision/BestPolynomialDegree\n"
     ]
    }
   ],
   "source": [
    "%cd .."
   ]
  },
  {
   "cell_type": "markdown",
   "metadata": {},
   "source": [
    "# Measuring information criteria "
   ]
  },
  {
   "cell_type": "code",
   "execution_count": 69,
   "metadata": {
    "scrolled": false
   },
   "outputs": [
    {
     "name": "stdout",
     "output_type": "stream",
     "text": [
      "Running data_input1\n",
      "chain1 for data_input1\n",
      "\n",
      "Gradient evaluation took 3e-05 seconds\n",
      "1000 transitions using 10 leapfrog steps per transition would take 0.3 seconds.\n",
      "Adjust your expectations accordingly!\n",
      "\n",
      "\n",
      "Iteration:    1 / 2000 [  0%]  (Warmup)\n",
      "Iteration:  500 / 2000 [ 25%]  (Warmup)\n",
      "Iteration:  501 / 2000 [ 25%]  (Sampling)\n",
      "Iteration: 1000 / 2000 [ 50%]  (Sampling)\n",
      "Iteration: 1500 / 2000 [ 75%]  (Sampling)\n",
      "Iteration: 2000 / 2000 [100%]  (Sampling)\n",
      "\n",
      " Elapsed Time: 0.238574 seconds (Warm-up)\n",
      "               0.256816 seconds (Sampling)\n",
      "               0.49539 seconds (Total)\n",
      "\n",
      "..............................................\n",
      "creating model ...\n",
      "creating model done.\n",
      "loading data ...\n",
      "sampling ...\n",
      "saving...\n",
      "..............................................\n",
      "chain2 for data_input1\n",
      "\n",
      "Gradient evaluation took 2.8e-05 seconds\n",
      "1000 transitions using 10 leapfrog steps per transition would take 0.28 seconds.\n",
      "Adjust your expectations accordingly!\n",
      "\n",
      "\n",
      "Iteration:    1 / 2000 [  0%]  (Warmup)\n",
      "Iteration:  500 / 2000 [ 25%]  (Warmup)\n",
      "Iteration:  501 / 2000 [ 25%]  (Sampling)\n",
      "Iteration: 1000 / 2000 [ 50%]  (Sampling)\n",
      "Iteration: 1500 / 2000 [ 75%]  (Sampling)\n",
      "Iteration: 2000 / 2000 [100%]  (Sampling)\n",
      "\n",
      " Elapsed Time: 0.223745 seconds (Warm-up)\n",
      "               0.333132 seconds (Sampling)\n",
      "               0.556877 seconds (Total)\n",
      "\n",
      "..............................................\n",
      "creating model ...\n",
      "creating model done.\n",
      "loading data ...\n",
      "sampling ...\n",
      "saving...\n",
      "..............................................\n",
      "chain3 for data_input1\n",
      "\n",
      "Gradient evaluation took 4.9e-05 seconds\n",
      "1000 transitions using 10 leapfrog steps per transition would take 0.49 seconds.\n",
      "Adjust your expectations accordingly!\n",
      "\n",
      "\n",
      "Iteration:    1 / 2000 [  0%]  (Warmup)\n",
      "Iteration:  500 / 2000 [ 25%]  (Warmup)\n",
      "Iteration:  501 / 2000 [ 25%]  (Sampling)\n",
      "Iteration: 1000 / 2000 [ 50%]  (Sampling)\n",
      "Iteration: 1500 / 2000 [ 75%]  (Sampling)\n",
      "Iteration: 2000 / 2000 [100%]  (Sampling)\n",
      "\n",
      " Elapsed Time: 0.300334 seconds (Warm-up)\n",
      "               0.319635 seconds (Sampling)\n",
      "               0.619969 seconds (Total)\n",
      "\n",
      "..............................................\n",
      "creating model ...\n",
      "creating model done.\n",
      "loading data ...\n",
      "sampling ...\n",
      "saving...\n",
      "..............................................\n",
      "chain4 for data_input1\n",
      "\n",
      "Gradient evaluation took 2.9e-05 seconds\n",
      "1000 transitions using 10 leapfrog steps per transition would take 0.29 seconds.\n",
      "Adjust your expectations accordingly!\n",
      "\n",
      "\n",
      "Iteration:    1 / 2000 [  0%]  (Warmup)\n",
      "Iteration:  500 / 2000 [ 25%]  (Warmup)\n",
      "Iteration:  501 / 2000 [ 25%]  (Sampling)\n",
      "Iteration: 1000 / 2000 [ 50%]  (Sampling)\n",
      "Iteration: 1500 / 2000 [ 75%]  (Sampling)\n",
      "Iteration: 2000 / 2000 [100%]  (Sampling)\n",
      "\n",
      " Elapsed Time: 0.251786 seconds (Warm-up)\n",
      "               0.329351 seconds (Sampling)\n",
      "               0.581137 seconds (Total)\n",
      "\n",
      "..............................................\n",
      "creating model ...\n",
      "creating model done.\n",
      "loading data ...\n",
      "sampling ...\n",
      "saving...\n",
      "..............................................\n",
      "Running data_input2\n",
      "chain1 for data_input2\n",
      "\n",
      "Gradient evaluation took 6.3e-05 seconds\n",
      "1000 transitions using 10 leapfrog steps per transition would take 0.63 seconds.\n",
      "Adjust your expectations accordingly!\n",
      "\n",
      "\n",
      "Iteration:    1 / 2000 [  0%]  (Warmup)\n",
      "Iteration:  500 / 2000 [ 25%]  (Warmup)\n",
      "Iteration:  501 / 2000 [ 25%]  (Sampling)\n",
      "Iteration: 1000 / 2000 [ 50%]  (Sampling)\n",
      "Iteration: 1500 / 2000 [ 75%]  (Sampling)\n",
      "Iteration: 2000 / 2000 [100%]  (Sampling)\n",
      "\n",
      " Elapsed Time: 0.232399 seconds (Warm-up)\n",
      "               0.537951 seconds (Sampling)\n",
      "               0.77035 seconds (Total)\n",
      "\n",
      "..............................................\n",
      "creating model ...\n",
      "creating model done.\n",
      "loading data ...\n",
      "sampling ...\n",
      "saving...\n",
      "..............................................\n",
      "chain2 for data_input2\n",
      "\n",
      "Gradient evaluation took 3.7e-05 seconds\n",
      "1000 transitions using 10 leapfrog steps per transition would take 0.37 seconds.\n",
      "Adjust your expectations accordingly!\n",
      "\n",
      "\n",
      "Iteration:    1 / 2000 [  0%]  (Warmup)\n",
      "Iteration:  500 / 2000 [ 25%]  (Warmup)\n",
      "Iteration:  501 / 2000 [ 25%]  (Sampling)\n",
      "Iteration: 1000 / 2000 [ 50%]  (Sampling)\n",
      "Iteration: 1500 / 2000 [ 75%]  (Sampling)\n",
      "Iteration: 2000 / 2000 [100%]  (Sampling)\n",
      "\n",
      " Elapsed Time: 0.215972 seconds (Warm-up)\n",
      "               0.540435 seconds (Sampling)\n",
      "               0.756407 seconds (Total)\n",
      "\n",
      "..............................................\n",
      "creating model ...\n",
      "creating model done.\n",
      "loading data ...\n",
      "sampling ...\n",
      "saving...\n",
      "..............................................\n",
      "chain3 for data_input2\n",
      "\n",
      "Gradient evaluation took 4e-05 seconds\n",
      "1000 transitions using 10 leapfrog steps per transition would take 0.4 seconds.\n",
      "Adjust your expectations accordingly!\n",
      "\n",
      "\n",
      "Iteration:    1 / 2000 [  0%]  (Warmup)\n",
      "Iteration:  500 / 2000 [ 25%]  (Warmup)\n",
      "Iteration:  501 / 2000 [ 25%]  (Sampling)\n",
      "Iteration: 1000 / 2000 [ 50%]  (Sampling)\n",
      "Iteration: 1500 / 2000 [ 75%]  (Sampling)\n",
      "Iteration: 2000 / 2000 [100%]  (Sampling)\n",
      "\n",
      " Elapsed Time: 0.2132 seconds (Warm-up)\n",
      "               0.464469 seconds (Sampling)\n",
      "               0.677669 seconds (Total)\n",
      "\n",
      "..............................................\n",
      "creating model ...\n",
      "creating model done.\n",
      "loading data ...\n",
      "sampling ...\n",
      "saving...\n",
      "..............................................\n",
      "chain4 for data_input2\n",
      "\n",
      "Gradient evaluation took 3.6e-05 seconds\n",
      "1000 transitions using 10 leapfrog steps per transition would take 0.36 seconds.\n",
      "Adjust your expectations accordingly!\n",
      "\n",
      "\n",
      "Iteration:    1 / 2000 [  0%]  (Warmup)\n",
      "Iteration:  500 / 2000 [ 25%]  (Warmup)\n",
      "Iteration:  501 / 2000 [ 25%]  (Sampling)\n",
      "Iteration: 1000 / 2000 [ 50%]  (Sampling)\n",
      "Iteration: 1500 / 2000 [ 75%]  (Sampling)\n",
      "Iteration: 2000 / 2000 [100%]  (Sampling)\n",
      "\n",
      " Elapsed Time: 0.207374 seconds (Warm-up)\n",
      "               0.510566 seconds (Sampling)\n",
      "               0.71794 seconds (Total)\n",
      "\n",
      "..............................................\n",
      "creating model ...\n",
      "creating model done.\n",
      "loading data ...\n",
      "sampling ...\n",
      "saving...\n",
      "..............................................\n",
      "Running data_input3\n",
      "chain1 for data_input3\n",
      "\n",
      "Gradient evaluation took 5.3e-05 seconds\n",
      "1000 transitions using 10 leapfrog steps per transition would take 0.53 seconds.\n",
      "Adjust your expectations accordingly!\n",
      "\n",
      "\n",
      "Iteration:    1 / 2000 [  0%]  (Warmup)\n",
      "Iteration:  500 / 2000 [ 25%]  (Warmup)\n",
      "Iteration:  501 / 2000 [ 25%]  (Sampling)\n",
      "Iteration: 1000 / 2000 [ 50%]  (Sampling)\n",
      "Iteration: 1500 / 2000 [ 75%]  (Sampling)\n",
      "Iteration: 2000 / 2000 [100%]  (Sampling)\n",
      "\n",
      " Elapsed Time: 0.831463 seconds (Warm-up)\n",
      "               1.06084 seconds (Sampling)\n",
      "               1.89231 seconds (Total)\n",
      "\n",
      "..............................................\n",
      "creating model ...\n",
      "creating model done.\n",
      "loading data ...\n",
      "sampling ...\n",
      "saving...\n",
      "..............................................\n",
      "chain2 for data_input3\n",
      "\n",
      "Gradient evaluation took 5.8e-05 seconds\n",
      "1000 transitions using 10 leapfrog steps per transition would take 0.58 seconds.\n",
      "Adjust your expectations accordingly!\n",
      "\n",
      "\n",
      "Iteration:    1 / 2000 [  0%]  (Warmup)\n",
      "Iteration:  500 / 2000 [ 25%]  (Warmup)\n",
      "Iteration:  501 / 2000 [ 25%]  (Sampling)\n",
      "Iteration: 1000 / 2000 [ 50%]  (Sampling)\n",
      "Iteration: 1500 / 2000 [ 75%]  (Sampling)\n",
      "Iteration: 2000 / 2000 [100%]  (Sampling)\n",
      "\n",
      " Elapsed Time: 0.802593 seconds (Warm-up)\n",
      "               1.28988 seconds (Sampling)\n",
      "               2.09247 seconds (Total)\n",
      "\n",
      "..............................................\n",
      "creating model ...\n",
      "creating model done.\n",
      "loading data ...\n",
      "sampling ...\n",
      "saving...\n",
      "..............................................\n",
      "chain3 for data_input3\n",
      "\n",
      "Gradient evaluation took 5.3e-05 seconds\n",
      "1000 transitions using 10 leapfrog steps per transition would take 0.53 seconds.\n",
      "Adjust your expectations accordingly!\n",
      "\n",
      "\n",
      "Iteration:    1 / 2000 [  0%]  (Warmup)\n",
      "Iteration:  500 / 2000 [ 25%]  (Warmup)\n",
      "Iteration:  501 / 2000 [ 25%]  (Sampling)\n",
      "Iteration: 1000 / 2000 [ 50%]  (Sampling)\n",
      "Iteration: 1500 / 2000 [ 75%]  (Sampling)\n",
      "Iteration: 2000 / 2000 [100%]  (Sampling)\n",
      "\n",
      " Elapsed Time: 0.769437 seconds (Warm-up)\n",
      "               1.34629 seconds (Sampling)\n",
      "               2.11573 seconds (Total)\n",
      "\n",
      "..............................................\n",
      "creating model ...\n",
      "creating model done.\n",
      "loading data ...\n",
      "sampling ...\n",
      "saving...\n",
      "..............................................\n",
      "chain4 for data_input3\n",
      "\n",
      "Gradient evaluation took 5.4e-05 seconds\n",
      "1000 transitions using 10 leapfrog steps per transition would take 0.54 seconds.\n",
      "Adjust your expectations accordingly!\n",
      "\n",
      "\n",
      "Iteration:    1 / 2000 [  0%]  (Warmup)\n",
      "Iteration:  500 / 2000 [ 25%]  (Warmup)\n",
      "Iteration:  501 / 2000 [ 25%]  (Sampling)\n",
      "Iteration: 1000 / 2000 [ 50%]  (Sampling)\n",
      "Iteration: 1500 / 2000 [ 75%]  (Sampling)\n",
      "Iteration: 2000 / 2000 [100%]  (Sampling)\n",
      "\n",
      " Elapsed Time: 0.744989 seconds (Warm-up)\n",
      "               1.07673 seconds (Sampling)\n",
      "               1.82172 seconds (Total)\n",
      "\n",
      "..............................................\n",
      "creating model ...\n",
      "creating model done.\n",
      "loading data ...\n",
      "sampling ...\n",
      "saving...\n",
      "..............................................\n",
      "Running data_input4\n",
      "chain1 for data_input4\n",
      "\n",
      "Gradient evaluation took 8.4e-05 seconds\n",
      "1000 transitions using 10 leapfrog steps per transition would take 0.84 seconds.\n",
      "Adjust your expectations accordingly!\n",
      "\n",
      "\n",
      "Iteration:    1 / 2000 [  0%]  (Warmup)\n",
      "Iteration:  500 / 2000 [ 25%]  (Warmup)\n",
      "Iteration:  501 / 2000 [ 25%]  (Sampling)\n",
      "Iteration: 1000 / 2000 [ 50%]  (Sampling)\n",
      "Iteration: 1500 / 2000 [ 75%]  (Sampling)\n",
      "Iteration: 2000 / 2000 [100%]  (Sampling)\n",
      "\n",
      " Elapsed Time: 11.5335 seconds (Warm-up)\n",
      "               18.9839 seconds (Sampling)\n",
      "               30.5174 seconds (Total)\n",
      "\n",
      "..............................................\n",
      "creating model ...\n",
      "creating model done.\n",
      "loading data ...\n",
      "sampling ...\n",
      "saving...\n",
      "..............................................\n",
      "chain2 for data_input4\n",
      "\n",
      "Gradient evaluation took 9.3e-05 seconds\n",
      "1000 transitions using 10 leapfrog steps per transition would take 0.93 seconds.\n",
      "Adjust your expectations accordingly!\n",
      "\n",
      "\n",
      "Iteration:    1 / 2000 [  0%]  (Warmup)\n",
      "Iteration:  500 / 2000 [ 25%]  (Warmup)\n",
      "Iteration:  501 / 2000 [ 25%]  (Sampling)\n",
      "Iteration: 1000 / 2000 [ 50%]  (Sampling)\n",
      "Iteration: 1500 / 2000 [ 75%]  (Sampling)\n",
      "Iteration: 2000 / 2000 [100%]  (Sampling)\n",
      "\n",
      " Elapsed Time: 8.76839 seconds (Warm-up)\n",
      "               18.7944 seconds (Sampling)\n",
      "               27.5628 seconds (Total)\n",
      "\n",
      "..............................................\n",
      "creating model ...\n",
      "creating model done.\n",
      "loading data ...\n",
      "sampling ...\n",
      "saving...\n",
      "..............................................\n",
      "chain3 for data_input4\n",
      "\n",
      "Gradient evaluation took 0.000168 seconds\n",
      "1000 transitions using 10 leapfrog steps per transition would take 1.68 seconds.\n",
      "Adjust your expectations accordingly!\n",
      "\n",
      "\n",
      "Iteration:    1 / 2000 [  0%]  (Warmup)\n",
      "Iteration:  500 / 2000 [ 25%]  (Warmup)\n",
      "Iteration:  501 / 2000 [ 25%]  (Sampling)\n",
      "Iteration: 1000 / 2000 [ 50%]  (Sampling)\n",
      "Iteration: 1500 / 2000 [ 75%]  (Sampling)\n",
      "Iteration: 2000 / 2000 [100%]  (Sampling)\n",
      "\n",
      " Elapsed Time: 11.8739 seconds (Warm-up)\n",
      "               15.5229 seconds (Sampling)\n",
      "               27.3968 seconds (Total)\n",
      "\n",
      "..............................................\n",
      "creating model ...\n",
      "creating model done.\n",
      "loading data ...\n",
      "sampling ...\n",
      "saving...\n",
      "..............................................\n",
      "chain4 for data_input4\n",
      "\n",
      "Gradient evaluation took 9.2e-05 seconds\n",
      "1000 transitions using 10 leapfrog steps per transition would take 0.92 seconds.\n",
      "Adjust your expectations accordingly!\n",
      "\n",
      "\n",
      "Iteration:    1 / 2000 [  0%]  (Warmup)\n",
      "Iteration:  500 / 2000 [ 25%]  (Warmup)\n",
      "Iteration:  501 / 2000 [ 25%]  (Sampling)\n",
      "Iteration: 1000 / 2000 [ 50%]  (Sampling)\n",
      "Iteration: 1500 / 2000 [ 75%]  (Sampling)\n",
      "Iteration: 2000 / 2000 [100%]  (Sampling)\n",
      "\n",
      " Elapsed Time: 6.20496 seconds (Warm-up)\n",
      "               15.8703 seconds (Sampling)\n",
      "               22.0753 seconds (Total)\n",
      "\n",
      "..............................................\n",
      "creating model ...\n",
      "creating model done.\n",
      "loading data ...\n",
      "sampling ...\n",
      "saving...\n",
      "..............................................\n",
      "/home/meysam/WorkLinux/PolynomialModelComparision/BestPolynomialDegree/data_output_model_polynomial\n",
      "............................................................\n",
      "............................................................\n",
      "2 parameters\n",
      "2 parameters\n",
      "2 parameters\n",
      "2 parameters\n",
      "3 parameters\n",
      "3 parameters\n",
      "3 parameters\n",
      "3 parameters\n",
      "4 parameters\n",
      "4 parameters\n",
      "4 parameters\n",
      "4 parameters\n",
      "6 parameters\n",
      "6 parameters\n",
      "6 parameters\n",
      "6 parameters\n",
      "[-508.76140606370194, -508.66304392799657, -508.88534493488163, -508.79799409683852, -151.28839475944639, -151.57463159739589, -151.36702586793584, -151.64937949897296, -152.15254634445429, -152.09088627966077, -151.93850493118683, -152.06210469092576, -153.87413474221174, -153.74378817966999, -153.95667847228066, -153.97968634371827]\n",
      "Writing complete\n",
      "/home/meysam/WorkLinux/PolynomialModelComparision/BestPolynomialDegree/data_output_model_polynomial\n",
      "............................................................\n",
      "['/home/meysam/WorkLinux/PolynomialModelComparision/BestPolynomialDegree/data_output_model_polynomial/output_model_polynomial_1-1.npz', '/home/meysam/WorkLinux/PolynomialModelComparision/BestPolynomialDegree/data_output_model_polynomial/output_model_polynomial_1-2.npz', '/home/meysam/WorkLinux/PolynomialModelComparision/BestPolynomialDegree/data_output_model_polynomial/output_model_polynomial_1-3.npz', '/home/meysam/WorkLinux/PolynomialModelComparision/BestPolynomialDegree/data_output_model_polynomial/output_model_polynomial_1-4.npz', '/home/meysam/WorkLinux/PolynomialModelComparision/BestPolynomialDegree/data_output_model_polynomial/output_model_polynomial_2-1.npz', '/home/meysam/WorkLinux/PolynomialModelComparision/BestPolynomialDegree/data_output_model_polynomial/output_model_polynomial_2-2.npz', '/home/meysam/WorkLinux/PolynomialModelComparision/BestPolynomialDegree/data_output_model_polynomial/output_model_polynomial_2-3.npz', '/home/meysam/WorkLinux/PolynomialModelComparision/BestPolynomialDegree/data_output_model_polynomial/output_model_polynomial_2-4.npz', '/home/meysam/WorkLinux/PolynomialModelComparision/BestPolynomialDegree/data_output_model_polynomial/output_model_polynomial_3-1.npz', '/home/meysam/WorkLinux/PolynomialModelComparision/BestPolynomialDegree/data_output_model_polynomial/output_model_polynomial_3-2.npz', '/home/meysam/WorkLinux/PolynomialModelComparision/BestPolynomialDegree/data_output_model_polynomial/output_model_polynomial_3-3.npz', '/home/meysam/WorkLinux/PolynomialModelComparision/BestPolynomialDegree/data_output_model_polynomial/output_model_polynomial_3-4.npz', '/home/meysam/WorkLinux/PolynomialModelComparision/BestPolynomialDegree/data_output_model_polynomial/output_model_polynomial_4-1.npz', '/home/meysam/WorkLinux/PolynomialModelComparision/BestPolynomialDegree/data_output_model_polynomial/output_model_polynomial_4-2.npz', '/home/meysam/WorkLinux/PolynomialModelComparision/BestPolynomialDegree/data_output_model_polynomial/output_model_polynomial_4-3.npz', '/home/meysam/WorkLinux/PolynomialModelComparision/BestPolynomialDegree/data_output_model_polynomial/output_model_polynomial_4-4.npz']\n",
      "............................................................\n",
      "\n",
      "\n",
      "\n",
      "\n",
      "\n",
      "\n",
      "\n",
      "\n",
      "\n",
      "\n",
      "\n",
      "\n",
      "\n",
      "\n",
      "\n",
      "\n",
      "\n",
      "\n",
      "\n",
      "\n",
      "\n",
      "\n",
      "\n",
      "\n",
      "\n",
      "\n",
      "\n",
      "\n",
      "\n",
      "\n",
      "\n",
      "\n",
      "[-508.77381363773389, -508.66283232142257, -508.88578288452561, -508.80294523778758, -151.29938796308286, -151.58257118508217, -151.37160986329604, -151.660192629226, -152.17729886226547, -152.10637772023202, -151.95039345437158, -152.07679600777905, -153.94354522617613, -153.79554384376007, -154.02785461246012, -154.05650497884642]\n",
      "Writing complete\n"
     ]
    }
   ],
   "source": [
    "%%bash\n",
    "\n",
    "iter=2000\n",
    "alg=\"hmc\"\n",
    "\n",
    "model=\"model_polynomial\"\n",
    "\n",
    "mkdir -p  data_output_${model}\n",
    "\n",
    "N=4\n",
    "\n",
    "for ((i = 1; i <= N; i++));\n",
    "do\n",
    "    echo \"Running data_input\"$i\n",
    "\n",
    "    for j in `seq 4`\n",
    "    do       \n",
    "            echo \"chain\"$j \"for data_input\"$i\n",
    "\n",
    "            python RunStan4IC.py data_input/data_input$i.npz ${model}.stan  ${alg} ${iter} data_output_${model}/output_${model}_$i-$j.npz \n",
    "   \n",
    "   done\n",
    "  \n",
    "done\n",
    "\n",
    " \n",
    "python ComputeIC_Hypos.py data_input.npz ${model}.stan data_output_${model}/output*.npz \n",
    "        \n",
    "python ComputePSIS_Hypos.py data_input.npz ${model}.stan data_output_${model}/output*.npz \n"
   ]
  },
  {
   "cell_type": "markdown",
   "metadata": {},
   "source": [
    "# Plot information criteria"
   ]
  },
  {
   "cell_type": "markdown",
   "metadata": {},
   "source": [
    "Lets see what we have in the current dir!"
   ]
  },
  {
   "cell_type": "code",
   "execution_count": 70,
   "metadata": {
    "collapsed": true
   },
   "outputs": [],
   "source": [
    "import re\n",
    "import glob\n",
    "from operator import itemgetter\n",
    "\n",
    "cwd = os.getcwd()\n",
    "os.chdir(cwd)\n",
    "\n",
    "numbers = re.compile(r'(\\d+)')\n",
    "\n",
    "def numericalSort(value):\n",
    "    parts = numbers.split(value)\n",
    "    parts[1::2] = map(int, parts[1::2])\n",
    "    return parts"
   ]
  },
  {
   "cell_type": "code",
   "execution_count": 71,
   "metadata": {},
   "outputs": [
    {
     "data": {
      "text/plain": [
       "['/home/meysam/WorkLinux/PolynomialModelComparision/BestPolynomialDegree/Outfile_PSIS_model_polynomial.npz',\n",
       " '/home/meysam/WorkLinux/PolynomialModelComparision/BestPolynomialDegree/Outfile_WAIC_model_polynomial.npz',\n",
       " '/home/meysam/WorkLinux/PolynomialModelComparision/BestPolynomialDegree/data_input.R.npz',\n",
       " '/home/meysam/WorkLinux/PolynomialModelComparision/BestPolynomialDegree/data_input.npz']"
      ]
     },
     "execution_count": 71,
     "metadata": {},
     "output_type": "execute_result"
    }
   ],
   "source": [
    "allNpzFiles = sorted(glob.glob(cwd + \"/*.npz\"), key=numericalSort)\n",
    "\n",
    "allNpzFiles"
   ]
  },
  {
   "cell_type": "code",
   "execution_count": 72,
   "metadata": {},
   "outputs": [
    {
     "data": {
      "text/plain": [
       "['Outfile_PSIS_model_polynomial', 'Outfile_WAIC_model_polynomial']"
      ]
     },
     "execution_count": 72,
     "metadata": {},
     "output_type": "execute_result"
    }
   ],
   "source": [
    "Outputfiles= [x.rsplit('/')[-1].rsplit('.npz')[-2] for x in allNpzFiles if \"Outfile\" in x]\n",
    "Outputfiles"
   ]
  },
  {
   "cell_type": "code",
   "execution_count": 73,
   "metadata": {
    "collapsed": true
   },
   "outputs": [],
   "source": [
    "Outfile_WAIC=[]\n",
    "Outfile_PSIS=[]\n",
    "\n",
    "elpd_waic_values=[]\n",
    "p_waic_values=[]\n",
    "loo_values=[]\n",
    "\n",
    "for file in Outputfiles:\n",
    "      if \"WAIC\" in file:\n",
    "            Outfile_WAIC.append(file)\n",
    "            npz=load(str(file)+'.npz')\n",
    "            elpd_waic=npz['elpd_waic_values']\n",
    "            p_waic=npz['p_waic_values']\n",
    "            elpd_waic_values.append(elpd_waic)\n",
    "            p_waic_values.append(p_waic)\n",
    "\n",
    "      if \"PSIS\" in file:\n",
    "            Outfile_PSIS.append(file)\n",
    "            npz=load(str(file)+'.npz')\n",
    "            loo=npz['loo_values']\n",
    "            loo_values.append(loo)"
   ]
  },
  {
   "cell_type": "code",
   "execution_count": 74,
   "metadata": {
    "collapsed": true
   },
   "outputs": [],
   "source": [
    "waic_values = [i * -2 for i in elpd_waic_values]"
   ]
  },
  {
   "cell_type": "code",
   "execution_count": 81,
   "metadata": {
    "collapsed": true
   },
   "outputs": [],
   "source": [
    "elpd_waic_values=asarray(elpd_waic_values)\n",
    "p_waic_values=asarray(p_waic_values)\n",
    "waic_values=asarray(waic_values)\n",
    "loo_values=asarray(loo_values)"
   ]
  },
  {
   "cell_type": "code",
   "execution_count": 82,
   "metadata": {},
   "outputs": [
    {
     "data": {
      "text/plain": [
       "array([[ 2.9648593 ,  2.88401933,  3.15874992,  3.00843344,  3.52568773,\n",
       "         3.89247924,  3.61834495,  3.85689985,  4.58260532,  4.53812994,\n",
       "         4.38857099,  4.50316654,  6.19050122,  6.12550123,  6.3077352 ,\n",
       "         6.36369449]])"
      ]
     },
     "execution_count": 82,
     "metadata": {},
     "output_type": "execute_result"
    }
   ],
   "source": [
    "p_waic_values"
   ]
  },
  {
   "cell_type": "code",
   "execution_count": 101,
   "metadata": {},
   "outputs": [
    {
     "data": {
      "image/png": "[encoded data removed]",
      "text/plain": [
       "<matplotlib.figure.Figure at 0x7f8f6edf0d30>"
      ]
     },
     "metadata": {},
     "output_type": "display_data"
    }
   ],
   "source": [
    "x=ndegree\n",
    "y=p_waic_values\n",
    "\n",
    "figure(figsize=(12, 4))\n",
    "for i in range((y.shape[0])):\n",
    "        subplot(1, (y.shape[0]), i + 1)  \n",
    "        plot(x, mean(y[i,:].reshape(-1, 4), axis=1),  'y',  linewidth=1.0, marker='o', markersize=10, fillstyle='full', label='n-th')\n",
    "        xlabel(\"Polynomial order\")\n",
    "        ylabel(\"p_waic\")\n",
    "        legend()\n",
    "tight_layout()\n",
    "show()   \n"
   ]
  },
  {
   "cell_type": "code",
   "execution_count": 104,
   "metadata": {},
   "outputs": [
    {
     "data": {
      "image/png": "[encoded data removed]",
      "text/plain": [
       "<matplotlib.figure.Figure at 0x7f8f6f508d68>"
      ]
     },
     "metadata": {},
     "output_type": "display_data"
    }
   ],
   "source": [
    "x=ndegree\n",
    "y=waic_values\n",
    "\n",
    "figure(figsize=(12, 4))\n",
    "for i in range((y.shape[0])):\n",
    "        subplot(1, (y.shape[0]), i + 1)  \n",
    "        plot(x, mean(y[i,:].reshape(-1, 4), axis=1),  'g',  linewidth=1.0, marker='o', markersize=10, fillstyle='full', label='n-th')\n",
    "        xlabel(\"Polynomial order\")\n",
    "        ylabel(\"waic\")\n",
    "        legend()\n",
    "tight_layout()\n",
    "show()   \n"
   ]
  },
  {
   "cell_type": "code",
   "execution_count": 93,
   "metadata": {
    "collapsed": true
   },
   "outputs": [],
   "source": [
    "bestmodel_idx=argmin(mean(waic_values[i,:].reshape(-1, 4), axis=1))"
   ]
  },
  {
   "cell_type": "code",
   "execution_count": 95,
   "metadata": {},
   "outputs": [
    {
     "name": "stdout",
     "output_type": "stream",
     "text": [
      "The order of best polynomial fitted to data is: 2\n"
     ]
    }
   ],
   "source": [
    "print('The order of best polynomial fitted to data is:', ndegree[bestmodel_idx])"
   ]
  },
  {
   "cell_type": "code",
   "execution_count": 88,
   "metadata": {},
   "outputs": [
    {
     "data": {
      "image/png": "[encoded data removed]",
      "text/plain": [
       "<matplotlib.figure.Figure at 0x7f8f6f7ae1d0>"
      ]
     },
     "metadata": {},
     "output_type": "display_data"
    }
   ],
   "source": [
    "x=ndegree\n",
    "y=waic_values\n",
    "\n",
    "figure(figsize=(8, 4))\n",
    "for i in range((y.shape[0])):\n",
    "        #plot(x,mean(y[i,:].reshape(-1, 4), axis=1),  'r',  linewidth=4.0, marker='o', markersize=10, fillstyle='none', label='elpd_waic')\n",
    "        #plot(x,mean(loo_values[i,:].reshape(-1, 4), axis=1),  'b--',  linewidth=2.0, marker='D', markersize=6, fillstyle='full', label='PSIS-LOO')\n",
    "        errorbar(x, mean(elpd_waic_values[i,:].reshape(-1, 4), axis=1), yerr=std(elpd_waic_values[i,:].reshape(-1, 4), axis=1),\n",
    "        elinewidth=4, ecolor='r',  linestyle='-', linewidth=2.0, fmt='r',\n",
    "        marker='o',markersize=12,  mfc='r',  mec='red', label='elpd_waic')\n",
    "        \n",
    "        errorbar(x, mean(loo_values[i,:].reshape(-1, 4), axis=1), yerr=std(loo_values[i,:].reshape(-1, 4), axis=1),\n",
    "        elinewidth=2, ecolor='b',  linestyle='--', linewidth=2.0, fmt='b',\n",
    "        marker='D',markersize=12,  mfc='b',  mec='b', label='PSIS-LOO')\n",
    "            \n",
    "        xlabel(\"Polynomial order\")\n",
    "        ylabel(\"LOO\")\n",
    "        legend()\n",
    "tight_layout()\n",
    "show()   \n"
   ]
  },
  {
   "cell_type": "code",
   "execution_count": null,
   "metadata": {
    "collapsed": true
   },
   "outputs": [],
   "source": []
  }
 ],
 "metadata": {
  "kernelspec": {
   "display_name": "Python 3",
   "language": "python",
   "name": "python3"
  },
  "language_info": {
   "codemirror_mode": {
    "name": "ipython",
    "version": 3
   },
   "file_extension": ".py",
   "mimetype": "text/x-python",
   "name": "python",
   "nbconvert_exporter": "python",
   "pygments_lexer": "ipython3",
   "version": "3.6.7"
  }
 },
 "nbformat": 4,
 "nbformat_minor": 2
}
